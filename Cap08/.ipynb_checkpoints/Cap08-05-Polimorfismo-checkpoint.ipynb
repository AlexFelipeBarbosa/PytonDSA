{
 "cells": [
  {
   "cell_type": "markdown",
   "id": "76f76757",
   "metadata": {},
   "source": [
    "# Alex Felipe Barbosa\n",
    "\n",
    "## Data Science Academy\n",
    "\n",
    "### Fundamentos da Linguagem Python para Analise de Dados e Data Science\n",
    "\n",
    "### Capitulo 8 - Introdução à Programação Orientada a Objetos \n",
    "### Polimorfismo\n",
    "\n",
    "#### 13/03/2024"
   ]
  },
  {
   "cell_type": "code",
   "execution_count": 1,
   "id": "211ca544",
   "metadata": {},
   "outputs": [
    {
     "name": "stdout",
     "output_type": "stream",
     "text": [
      "Versão da Linguagem Python usada neste Jupyter Notebook:  3.9.13\n"
     ]
    }
   ],
   "source": [
    "# Versão da Linguagem Python\n",
    "from platform import python_version\n",
    "print(\"Versão da Linguagem Python usada neste Jupyter Notebook: \", python_version())"
   ]
  },
  {
   "cell_type": "code",
   "execution_count": 8,
   "id": "def3e923",
   "metadata": {},
   "outputs": [],
   "source": [
    "# Superclasse\n",
    "class Veiculo: \n",
    "    \n",
    "    def __init__(self, marca, modelo):\n",
    "        self.marca = marca\n",
    "        self.modelo = modelo\n",
    "        \n",
    "    def acelerar(self):\n",
    "        pass\n",
    "    \n",
    "    def frear(self):\n",
    "        pass"
   ]
  },
  {
   "cell_type": "code",
   "execution_count": 9,
   "id": "2c8bc130",
   "metadata": {},
   "outputs": [],
   "source": [
    "# Subclasse\n",
    "class Carro(Veiculo):\n",
    "    \n",
    "    def acelerar(self):\n",
    "        print(\"O carro está acelerando!\")\n",
    "        \n",
    "    def frear(self):\n",
    "        print(\"O carro está freando!\")"
   ]
  },
  {
   "cell_type": "code",
   "execution_count": 10,
   "id": "20b778b0",
   "metadata": {},
   "outputs": [],
   "source": [
    "# Subclasse\n",
    "class Moto(Veiculo):\n",
    "    \n",
    "    def acelerar(self):\n",
    "        print(\"A moto está acelerando!\")\n",
    "        \n",
    "    def frear(self):\n",
    "        print(\"A moto está freando!\")"
   ]
  },
  {
   "cell_type": "code",
   "execution_count": 11,
   "id": "c6d5d31c",
   "metadata": {},
   "outputs": [],
   "source": [
    "# Subclasse \n",
    "class Aviao(Veiculo):\n",
    "    \n",
    "    def acelerar(self):\n",
    "        print(\"O avião está acelerando!\")\n",
    "        \n",
    "    def frear(self):\n",
    "        print(\"O avião está freando!\")\n",
    "        \n",
    "    def decolar(self):\n",
    "        print(\"O avião está decolando!\")"
   ]
  },
  {
   "cell_type": "code",
   "execution_count": 12,
   "id": "6524d15b",
   "metadata": {},
   "outputs": [],
   "source": [
    "# Cria os objetos\n",
    "lista_veiculos = [Carro(\"Porshe\",\"911 Turbo\"), Moto(\"Honda\", \"CB 1000R Black Edition\"), Aviao(\"Boeing\",\"757\")]"
   ]
  },
  {
   "cell_type": "code",
   "execution_count": 13,
   "id": "d46973ca",
   "metadata": {},
   "outputs": [
    {
     "name": "stdout",
     "output_type": "stream",
     "text": [
      "O carro está acelerando!\n",
      "O carro está freando!\n",
      "-------\n",
      "A moto está acelerando!\n",
      "A moto está freando!\n",
      "-------\n",
      "O avião está acelerando!\n",
      "O avião está freando!\n",
      "O avião está decolando!\n",
      "-------\n"
     ]
    }
   ],
   "source": [
    "# Loop\n",
    "for item in lista_veiculos:\n",
    "    \n",
    "    # O metodo acelerar tem comportamento diferente dependendo do tipo de objeto\n",
    "    item.acelerar()\n",
    "    \n",
    "    # O metodo frear tem comportamento diferente dependendo do tidpo de objeto\n",
    "    item.frear()\n",
    "    \n",
    "    # Executamos o metodo decolar somente se o objeto for instância da classe Avião\n",
    "    if isinstance(item, Aviao):\n",
    "        item.decolar()\n",
    "        \n",
    "    print('-------')"
   ]
  },
  {
   "cell_type": "markdown",
   "id": "2f7a68d5",
   "metadata": {},
   "source": [
    "FIM"
   ]
  }
 ],
 "metadata": {
  "kernelspec": {
   "display_name": "Python 3 (ipykernel)",
   "language": "python",
   "name": "python3"
  },
  "language_info": {
   "codemirror_mode": {
    "name": "ipython",
    "version": 3
   },
   "file_extension": ".py",
   "mimetype": "text/x-python",
   "name": "python",
   "nbconvert_exporter": "python",
   "pygments_lexer": "ipython3",
   "version": "3.9.13"
  }
 },
 "nbformat": 4,
 "nbformat_minor": 5
}
