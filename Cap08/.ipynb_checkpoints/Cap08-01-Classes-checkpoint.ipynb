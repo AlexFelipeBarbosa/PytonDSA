{
 "cells": [
  {
   "cell_type": "markdown",
   "id": "8a6eea39",
   "metadata": {},
   "source": [
    "# Alex Felipe Barbosa\n",
    "\n",
    "## Data Science Academy\n",
    "\n",
    "### Fundamentos da Linguagem Python para Analise de Dados e Data Science\n",
    "\n",
    "### Capitulo 8 - Introdução à Programação Orientada a Objetos\n",
    "\n",
    "#### 06/03/2024"
   ]
  },
  {
   "cell_type": "code",
   "execution_count": 1,
   "id": "907da3ef",
   "metadata": {},
   "outputs": [
    {
     "name": "stdout",
     "output_type": "stream",
     "text": [
      "Versão da Linguagem Python usada neste Jupyter Notebook:  3.9.13\n"
     ]
    }
   ],
   "source": [
    "# Versão da Linguagem Python\n",
    "from platform import python_version\n",
    "print(\"Versão da Linguagem Python usada neste Jupyter Notebook: \", python_version())"
   ]
  },
  {
   "cell_type": "markdown",
   "id": "87451f58",
   "metadata": {},
   "source": [
    "## Classes \n",
    "\n",
    "Em Programação Orientada a Objetos (POO), uma classe é uma estrutura que descreve um objeto, especificando os atributos e comportamentos que o objeto deve ter. Uma classe é uma especie de modelo que define as caracteristicas e ações que um objeto deve possuir.\n",
    "\n",
    "As classes são usadas para criar objetos, que são instancias da classe. Cada objeto criado a partir da mesma classe terá os mesmos atributos e comportamentos.\n",
    "\n",
    "Para criar uma classe em Python, utiliza-se a palavra reservada class.\n",
    "\n",
    "O nome da classe segue a mesma convenção de nomes para criação de funções e variaveis em Python, mas normalmente se usa a primeira letra maiuscula em cada palavra no nome da classe."
   ]
  },
  {
   "cell_type": "code",
   "execution_count": 3,
   "id": "d02ae413",
   "metadata": {},
   "outputs": [],
   "source": [
    "# Criando uma classe chamada Livro \n",
    "class Livro():\n",
    "    \n",
    "    # Este método vai inicializar cada objeto criado a partir desta classe\n",
    "    # O nome deste método é __init__\n",
    "    # (self) é uma referencia a cada atributo da propria classe ( e não de uma classe mãe, por exemplo)\n",
    "    def __init__(self):\n",
    "        \n",
    "        # Atributos são propriedades \n",
    "        self.titulo = \"Sapiens - Uma Breve História da Humanidade\"\n",
    "        self.isbn = 9989898989\n",
    "        print(\"Construtor chamado para criar um objeto desta classe.\")\n",
    "        \n",
    "    # Métodos são funções que executam ações nos objetos da classe\n",
    "    def imprime(self):\n",
    "        print(\"Foi criado o livro %s com ISBN %d\" %(self.titulo, self.isbn))"
   ]
  },
  {
   "cell_type": "markdown",
   "id": "30965123",
   "metadata": {},
   "source": [
    "Em Python, a palavra reservada self é uma referencia ao objeto atual da classe. Quando um objeto é criado a partir de uma classe, self é utilizado para se referir a esse objeto especifico"
   ]
  },
  {
   "cell_type": "code",
   "execution_count": 4,
   "id": "da940c74",
   "metadata": {},
   "outputs": [
    {
     "name": "stdout",
     "output_type": "stream",
     "text": [
      "Construtor chamado para criar um objeto desta classe.\n"
     ]
    }
   ],
   "source": [
    "# Criando uma instância da classe Livro\n",
    "Livro1 = Livro()"
   ]
  },
  {
   "cell_type": "code",
   "execution_count": 5,
   "id": "0bab0311",
   "metadata": {},
   "outputs": [
    {
     "data": {
      "text/plain": [
       "__main__.Livro"
      ]
     },
     "execution_count": 5,
     "metadata": {},
     "output_type": "execute_result"
    }
   ],
   "source": [
    "# O objeto Livro1 é do tipo Livro\n",
    "type(Livro1)"
   ]
  },
  {
   "cell_type": "code",
   "execution_count": 6,
   "id": "3c2e353f",
   "metadata": {},
   "outputs": [
    {
     "data": {
      "text/plain": [
       "'Sapiens - Uma Breve História da Humanidade'"
      ]
     },
     "execution_count": 6,
     "metadata": {},
     "output_type": "execute_result"
    }
   ],
   "source": [
    "# Atributo do objeto Livro1\n",
    "Livro1.titulo"
   ]
  },
  {
   "cell_type": "code",
   "execution_count": 7,
   "id": "033e0213",
   "metadata": {},
   "outputs": [
    {
     "name": "stdout",
     "output_type": "stream",
     "text": [
      "Foi criado o livro Sapiens - Uma Breve História da Humanidade com ISBN 9989898989\n"
     ]
    }
   ],
   "source": [
    "# Metodo do objeto Livro1\n",
    "Livro1.imprime()"
   ]
  },
  {
   "cell_type": "code",
   "execution_count": 10,
   "id": "044ac37a",
   "metadata": {},
   "outputs": [],
   "source": [
    "# Criando a classe livro com parametros no metodo construtor\n",
    "class Livro():\n",
    "    \n",
    "    def __init__(self, titulo, isbn):\n",
    "        self.titulo = titulo\n",
    "        self.isbn = isbn\n",
    "        print(\"Construtor chamado para criar um objeto desta classe.\")\n",
    "        \n",
    "    def imprime(self, titulo, isbn):\n",
    "        print(\"Este é o livro %s e ISBN %d\" % (titulo, isbn))"
   ]
  },
  {
   "cell_type": "code",
   "execution_count": 11,
   "id": "b725e5f1",
   "metadata": {},
   "outputs": [
    {
     "name": "stdout",
     "output_type": "stream",
     "text": [
      "Construtor chamado para criar um objeto desta classe.\n"
     ]
    }
   ],
   "source": [
    "# Criando o objeto Livro2 que é uma instancia da classe Livro\n",
    "Livro2 = Livro(\"O Poder do Hábito\", 789898984545)"
   ]
  },
  {
   "cell_type": "code",
   "execution_count": 12,
   "id": "c1318e07",
   "metadata": {},
   "outputs": [
    {
     "data": {
      "text/plain": [
       "'O Poder do Hábito'"
      ]
     },
     "execution_count": 12,
     "metadata": {},
     "output_type": "execute_result"
    }
   ],
   "source": [
    "Livro2.titulo"
   ]
  },
  {
   "cell_type": "code",
   "execution_count": 13,
   "id": "9774944c",
   "metadata": {},
   "outputs": [
    {
     "name": "stdout",
     "output_type": "stream",
     "text": [
      "Este é o livro O Poder do Habito e ISBN 98989\n"
     ]
    }
   ],
   "source": [
    "# Método do objeto Livro2\n",
    "Livro2.imprime(\"O Poder do Habito\",98989)"
   ]
  },
  {
   "cell_type": "code",
   "execution_count": 20,
   "id": "442580ac",
   "metadata": {},
   "outputs": [],
   "source": [
    "# Criando a classe Algoritmo\n",
    "class Algoritmo():\n",
    "    \n",
    "    def __init__(self, tipo_algo):\n",
    "        self.tipo = tipo_algo\n",
    "        print(\"Construtor chamado para criar um objeto desta classe.\")"
   ]
  },
  {
   "cell_type": "code",
   "execution_count": 16,
   "id": "2cc48578",
   "metadata": {},
   "outputs": [
    {
     "name": "stdout",
     "output_type": "stream",
     "text": [
      "Construtor chamado para criar um objeto desta classe.\n"
     ]
    }
   ],
   "source": [
    "# Criando um objeto a partir da classe \n",
    "algo1 = Algoritmo(tipo_algo = \"Random Forest\")"
   ]
  },
  {
   "cell_type": "code",
   "execution_count": 17,
   "id": "de17aa6b",
   "metadata": {},
   "outputs": [
    {
     "name": "stdout",
     "output_type": "stream",
     "text": [
      "Construtor chamado para criar um objeto desta classe.\n"
     ]
    }
   ],
   "source": [
    "# Criando um objeto a partir da classe \n",
    "algo2 = Algoritmo(tipo_algo = \"Deep Learning\")"
   ]
  },
  {
   "cell_type": "code",
   "execution_count": 18,
   "id": "7d17d4ea",
   "metadata": {},
   "outputs": [
    {
     "data": {
      "text/plain": [
       "'Random Forest'"
      ]
     },
     "execution_count": 18,
     "metadata": {},
     "output_type": "execute_result"
    }
   ],
   "source": [
    "# Atributo da classe \n",
    "algo1.tipo"
   ]
  },
  {
   "cell_type": "code",
   "execution_count": 19,
   "id": "083edd26",
   "metadata": {},
   "outputs": [
    {
     "data": {
      "text/plain": [
       "'Deep Learning'"
      ]
     },
     "execution_count": 19,
     "metadata": {},
     "output_type": "execute_result"
    }
   ],
   "source": [
    "algo2.tipo"
   ]
  },
  {
   "cell_type": "markdown",
   "id": "cb6a884f",
   "metadata": {},
   "source": [
    "FIM"
   ]
  }
 ],
 "metadata": {
  "kernelspec": {
   "display_name": "Python 3 (ipykernel)",
   "language": "python",
   "name": "python3"
  },
  "language_info": {
   "codemirror_mode": {
    "name": "ipython",
    "version": 3
   },
   "file_extension": ".py",
   "mimetype": "text/x-python",
   "name": "python",
   "nbconvert_exporter": "python",
   "pygments_lexer": "ipython3",
   "version": "3.9.13"
  }
 },
 "nbformat": 4,
 "nbformat_minor": 5
}
