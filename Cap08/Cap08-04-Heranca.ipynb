{
 "cells": [
  {
   "cell_type": "markdown",
   "id": "6fd2ca3b",
   "metadata": {},
   "source": [
    "# Alex Felipe Barbosa\n",
    "\n",
    "## Data Science Academy\n",
    "\n",
    "### Fundamentos da Linguagem Python para Analise de Dados e Data Science\n",
    "\n",
    "### Capitulo 8 - Introdução à Programação Orientada a Objetos \n",
    "### Herança\n",
    "\n",
    "#### 13/03/2024"
   ]
  },
  {
   "cell_type": "code",
   "execution_count": 1,
   "id": "89940c02",
   "metadata": {},
   "outputs": [
    {
     "name": "stdout",
     "output_type": "stream",
     "text": [
      "Versão da Linguagem Python usada neste Jupyter Notebook:  3.9.13\n"
     ]
    }
   ],
   "source": [
    "# Versão da Linguagem Python\n",
    "from platform import python_version\n",
    "print(\"Versão da Linguagem Python usada neste Jupyter Notebook: \", python_version())"
   ]
  },
  {
   "cell_type": "code",
   "execution_count": 2,
   "id": "16ca9674",
   "metadata": {},
   "outputs": [],
   "source": [
    "# Criando a classe Animal - Super Classe\n",
    "class Animal:\n",
    "    \n",
    "    def __init__(self):\n",
    "        print('Animal criado!')\n",
    "        \n",
    "    def imprimir(self):\n",
    "        print(\"Este é um animal\")\n",
    "        \n",
    "    def comer(self):\n",
    "        print(\"Hora de comer\")\n",
    "        \n",
    "    def emitir_som(self):\n",
    "        pass"
   ]
  },
  {
   "cell_type": "code",
   "execution_count": 3,
   "id": "9e8dc774",
   "metadata": {},
   "outputs": [],
   "source": [
    "# Criando a classe Cachorro - Sub-Classe\n",
    "class Cachorro(Animal):\n",
    "    \n",
    "    def __init__(self):\n",
    "        Animal.__init__(self)\n",
    "        print('Objeto Cachorro criado!')\n",
    "        \n",
    "    def emitir_som(self):\n",
    "        print('au au!')"
   ]
  },
  {
   "cell_type": "code",
   "execution_count": 4,
   "id": "5ad9cfc0",
   "metadata": {},
   "outputs": [],
   "source": [
    "# Criando a clase Gato - Sub-classe\n",
    "class Gato(Animal):\n",
    "    \n",
    "    def __init__(self):\n",
    "        Animal.__init__(self)\n",
    "        print(\"Objeto Gato criado!\")\n",
    "        \n",
    "    def emitir_som(self):\n",
    "        print(\"miau!\")"
   ]
  },
  {
   "cell_type": "code",
   "execution_count": 5,
   "id": "df605404",
   "metadata": {},
   "outputs": [
    {
     "name": "stdout",
     "output_type": "stream",
     "text": [
      "Animal criado!\n",
      "Objeto Cachorro criado!\n"
     ]
    }
   ],
   "source": [
    "# Criando um objeto (Instanciando a classe)\n",
    "rex = Cachorro()"
   ]
  },
  {
   "cell_type": "code",
   "execution_count": 6,
   "id": "1a577dd4",
   "metadata": {},
   "outputs": [
    {
     "name": "stdout",
     "output_type": "stream",
     "text": [
      "Animal criado!\n",
      "Objeto Gato criado!\n"
     ]
    }
   ],
   "source": [
    "# Criando um objeto (Instanciando a classe)\n",
    "zeze = Gato()"
   ]
  },
  {
   "cell_type": "code",
   "execution_count": 7,
   "id": "ad73c95a",
   "metadata": {},
   "outputs": [
    {
     "name": "stdout",
     "output_type": "stream",
     "text": [
      "au au!\n"
     ]
    }
   ],
   "source": [
    "rex.emitir_som()"
   ]
  },
  {
   "cell_type": "code",
   "execution_count": 8,
   "id": "9160767e",
   "metadata": {},
   "outputs": [
    {
     "name": "stdout",
     "output_type": "stream",
     "text": [
      "miau!\n"
     ]
    }
   ],
   "source": [
    "zeze.emitir_som()"
   ]
  },
  {
   "cell_type": "code",
   "execution_count": 9,
   "id": "f74b1613",
   "metadata": {},
   "outputs": [
    {
     "name": "stdout",
     "output_type": "stream",
     "text": [
      "Este é um animal\n"
     ]
    }
   ],
   "source": [
    "# Executando o metodo da classe Cachorro (sub-classe)\n",
    "rex.imprimir()"
   ]
  },
  {
   "cell_type": "code",
   "execution_count": 10,
   "id": "bf315560",
   "metadata": {},
   "outputs": [
    {
     "name": "stdout",
     "output_type": "stream",
     "text": [
      "Hora de comer\n"
     ]
    }
   ],
   "source": [
    "# Executando o metodo da classe Animal (sub-classe)\n",
    "rex.comer()"
   ]
  },
  {
   "cell_type": "code",
   "execution_count": 11,
   "id": "f683b745",
   "metadata": {},
   "outputs": [
    {
     "name": "stdout",
     "output_type": "stream",
     "text": [
      "Hora de comer\n"
     ]
    }
   ],
   "source": [
    "# Executando o metodo da classe Cachorro (sub-classe)\n",
    "zeze.comer()"
   ]
  },
  {
   "cell_type": "markdown",
   "id": "50a9dc2e",
   "metadata": {},
   "source": [
    "Fim"
   ]
  }
 ],
 "metadata": {
  "kernelspec": {
   "display_name": "Python 3 (ipykernel)",
   "language": "python",
   "name": "python3"
  },
  "language_info": {
   "codemirror_mode": {
    "name": "ipython",
    "version": 3
   },
   "file_extension": ".py",
   "mimetype": "text/x-python",
   "name": "python",
   "nbconvert_exporter": "python",
   "pygments_lexer": "ipython3",
   "version": "3.9.13"
  }
 },
 "nbformat": 4,
 "nbformat_minor": 5
}
