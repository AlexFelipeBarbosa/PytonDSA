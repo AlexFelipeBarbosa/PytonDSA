{
 "cells": [
  {
   "cell_type": "markdown",
   "id": "c2e02d83",
   "metadata": {},
   "source": [
    "# Alex Felipe Barbosa\n",
    "\n",
    "## Data Science Academy\n",
    "\n",
    "### Fundamentos da Linguagem Python para Analise de Dados e Data Science\n",
    "\n",
    "### Capitulo 5 - Condicionais\n",
    "\n",
    "#### 19/02/2024\n",
    "\n"
   ]
  },
  {
   "cell_type": "code",
   "execution_count": 1,
   "id": "11d6953d",
   "metadata": {},
   "outputs": [
    {
     "name": "stdout",
     "output_type": "stream",
     "text": [
      "Versão da Linguagem Python usada neste Jupyter Notebook:  3.9.13\n"
     ]
    }
   ],
   "source": [
    "# Versão da Linguagem Python\n",
    "from platform import python_version\n",
    "print(\"Versão da Linguagem Python usada neste Jupyter Notebook: \", python_version())"
   ]
  },
  {
   "cell_type": "markdown",
   "id": "bba2a054",
   "metadata": {},
   "source": [
    "## Condicional IF"
   ]
  },
  {
   "cell_type": "code",
   "execution_count": 3,
   "id": "7f5b9e3c",
   "metadata": {},
   "outputs": [
    {
     "name": "stdout",
     "output_type": "stream",
     "text": [
      "A sentença é verdadeira!\n"
     ]
    }
   ],
   "source": [
    "# Condicional IF\n",
    "if 5 > 2:\n",
    "    print(\"A sentença é verdadeira!\")"
   ]
  },
  {
   "cell_type": "code",
   "execution_count": 4,
   "id": "742ae5cf",
   "metadata": {},
   "outputs": [
    {
     "name": "stdout",
     "output_type": "stream",
     "text": [
      "A sentença é falsa!\n"
     ]
    }
   ],
   "source": [
    "# Condicional If...Else\n",
    "if 5 < 2:\n",
    "    print(\"A sentença é verdadeira!\")\n",
    "else:\n",
    "    print(\"A sentença é falsa!\")"
   ]
  },
  {
   "cell_type": "code",
   "execution_count": 5,
   "id": "36e93d18",
   "metadata": {},
   "outputs": [
    {
     "name": "stdout",
     "output_type": "stream",
     "text": [
      "Hoje vai chover!\n"
     ]
    }
   ],
   "source": [
    "# Condicional If... Else com variavel\n",
    "dia = \"Terça\"\n",
    "if dia == \"Segunda\":\n",
    "    print(\"Hoje fará sol!\")\n",
    "else: \n",
    "    print(\"Hoje vai chover!\")"
   ]
  },
  {
   "cell_type": "code",
   "execution_count": 6,
   "id": "51ffd71b",
   "metadata": {},
   "outputs": [
    {
     "name": "stdout",
     "output_type": "stream",
     "text": [
      "hoje vai chover!\n"
     ]
    }
   ],
   "source": [
    "# Podemos usar o operador elif para validar mais de uma condição\n",
    "if dia == \"Segunda\":\n",
    "    print(\"Hoje fará sol!\")\n",
    "elif dia == \"Terça\":\n",
    "    print(\"hoje vai chover!\")\n",
    "else:\n",
    "    print(\"Sem previsão do tempo para o dia selecionado!\")"
   ]
  },
  {
   "cell_type": "code",
   "execution_count": 7,
   "id": "c5f0ebb0",
   "metadata": {},
   "outputs": [
    {
     "data": {
      "text/plain": [
       "True"
      ]
     },
     "execution_count": 7,
     "metadata": {},
     "output_type": "execute_result"
    }
   ],
   "source": [
    "6 > 3"
   ]
  },
  {
   "cell_type": "code",
   "execution_count": 8,
   "id": "07f1dd90",
   "metadata": {},
   "outputs": [
    {
     "data": {
      "text/plain": [
       "False"
      ]
     },
     "execution_count": 8,
     "metadata": {},
     "output_type": "execute_result"
    }
   ],
   "source": [
    "3 > 7"
   ]
  },
  {
   "cell_type": "code",
   "execution_count": 9,
   "id": "b7fc5cf6",
   "metadata": {},
   "outputs": [
    {
     "data": {
      "text/plain": [
       "True"
      ]
     },
     "execution_count": 9,
     "metadata": {},
     "output_type": "execute_result"
    }
   ],
   "source": [
    "4 < 8"
   ]
  },
  {
   "cell_type": "code",
   "execution_count": 10,
   "id": "7b96a161",
   "metadata": {},
   "outputs": [
    {
     "data": {
      "text/plain": [
       "True"
      ]
     },
     "execution_count": 10,
     "metadata": {},
     "output_type": "execute_result"
    }
   ],
   "source": [
    "4 >= 4"
   ]
  },
  {
   "cell_type": "code",
   "execution_count": 11,
   "id": "f35a973f",
   "metadata": {},
   "outputs": [
    {
     "name": "stdout",
     "output_type": "stream",
     "text": [
      "Testando Python\n"
     ]
    }
   ],
   "source": [
    "if 5 == 5:\n",
    "    print(\"Testando Python\")"
   ]
  },
  {
   "cell_type": "code",
   "execution_count": 13,
   "id": "aeb58546",
   "metadata": {},
   "outputs": [
    {
     "name": "stdout",
     "output_type": "stream",
     "text": [
      "Parece que o Python funciona!\n"
     ]
    }
   ],
   "source": [
    "if True:\n",
    "    print(\"Parece que o Python funciona!\")"
   ]
  },
  {
   "cell_type": "code",
   "execution_count": 14,
   "id": "e22bfae0",
   "metadata": {},
   "outputs": [
    {
     "ename": "SyntaxError",
     "evalue": "invalid syntax (3621467836.py, line 2)",
     "output_type": "error",
     "traceback": [
      "\u001b[1;36m  File \u001b[1;32m\"C:\\Users\\alexf\\AppData\\Local\\Temp\\ipykernel_17964\\3621467836.py\"\u001b[1;36m, line \u001b[1;32m2\u001b[0m\n\u001b[1;33m    if 4 > 3\u001b[0m\n\u001b[1;37m            ^\u001b[0m\n\u001b[1;31mSyntaxError\u001b[0m\u001b[1;31m:\u001b[0m invalid syntax\n"
     ]
    }
   ],
   "source": [
    "# Atenção com a sintaxe\n",
    "if 4 > 3\n",
    "    print(\"Tudo funciona!\")"
   ]
  },
  {
   "cell_type": "code",
   "execution_count": 15,
   "id": "1d0e512e",
   "metadata": {},
   "outputs": [
    {
     "ename": "IndentationError",
     "evalue": "expected an indented block (2843329154.py, line 3)",
     "output_type": "error",
     "traceback": [
      "\u001b[1;36m  File \u001b[1;32m\"C:\\Users\\alexf\\AppData\\Local\\Temp\\ipykernel_17964\\2843329154.py\"\u001b[1;36m, line \u001b[1;32m3\u001b[0m\n\u001b[1;33m    print(\"Tudo funciona!\")\u001b[0m\n\u001b[1;37m    ^\u001b[0m\n\u001b[1;31mIndentationError\u001b[0m\u001b[1;31m:\u001b[0m expected an indented block\n"
     ]
    }
   ],
   "source": [
    "# Atenção com a sintaxe\n",
    "if 4 > 3:\n",
    "print(\"Tudo funciona!\")"
   ]
  },
  {
   "cell_type": "markdown",
   "id": "6b706676",
   "metadata": {},
   "source": [
    "### Fique atento aos espaços entre a margem e cada um dos seus comandos.\n",
    "### A indentação faz parte da sintaxe da linguagem Python"
   ]
  },
  {
   "cell_type": "markdown",
   "id": "655a3cc3",
   "metadata": {},
   "source": [
    "## Condicionais Aninhados"
   ]
  },
  {
   "cell_type": "code",
   "execution_count": 16,
   "id": "fe5654aa",
   "metadata": {},
   "outputs": [
    {
     "name": "stdout",
     "output_type": "stream",
     "text": [
      "Você já pode dirigir!\n"
     ]
    }
   ],
   "source": [
    "idade = 18\n",
    "if idade > 17:\n",
    "    print(\"Você já pode dirigir!\")"
   ]
  },
  {
   "cell_type": "code",
   "execution_count": 17,
   "id": "b21506cc",
   "metadata": {},
   "outputs": [
    {
     "name": "stdout",
     "output_type": "stream",
     "text": [
      "Ok! Bob, você está autorizado a entrar!\n"
     ]
    }
   ],
   "source": [
    "Nome = \"Bob\"\n",
    "if idade > 13:\n",
    "    if Nome == \"Bob\":\n",
    "        print(\"Ok! Bob, você está autorizado a entrar!\")\n",
    "    else:\n",
    "        print(\"Desculpe, mas você não pode entrar...\")"
   ]
  },
  {
   "cell_type": "code",
   "execution_count": 21,
   "id": "39dbc6e6",
   "metadata": {},
   "outputs": [
    {
     "name": "stdout",
     "output_type": "stream",
     "text": [
      "Ok! Bob você está autorizado a entrar!\n"
     ]
    }
   ],
   "source": [
    "idade = 13\n",
    "Nome = \"Bob\"\n",
    "if idade >= 13 and Nome == \"Bob\":\n",
    "    print(\"Ok! Bob você está autorizado a entrar!\")"
   ]
  },
  {
   "cell_type": "code",
   "execution_count": 22,
   "id": "7288f17b",
   "metadata": {},
   "outputs": [
    {
     "name": "stdout",
     "output_type": "stream",
     "text": [
      "Ok! Bob, você está autorizado a entrar!\n"
     ]
    }
   ],
   "source": [
    "idade = 12\n",
    "Nome = \"Bob\"\n",
    "if (idade >= 13) or (Nome == \"Bob\"):\n",
    "    print(\"Ok! Bob, você está autorizado a entrar!\")"
   ]
  },
  {
   "cell_type": "markdown",
   "id": "c59d77b5",
   "metadata": {},
   "source": [
    "## Operadores Lógicos"
   ]
  },
  {
   "cell_type": "code",
   "execution_count": 24,
   "id": "2bb52bdd",
   "metadata": {},
   "outputs": [
    {
     "name": "stdout",
     "output_type": "stream",
     "text": [
      "Você pode dirigir\n"
     ]
    }
   ],
   "source": [
    "idade = 18\n",
    "nome = \"Bob\"\n",
    "if idade > 17:\n",
    "    print(\"Você pode dirigir\")"
   ]
  },
  {
   "cell_type": "code",
   "execution_count": 25,
   "id": "28ea5d71",
   "metadata": {},
   "outputs": [
    {
     "name": "stdout",
     "output_type": "stream",
     "text": [
      "Autorizado!\n"
     ]
    }
   ],
   "source": [
    "idade = 18\n",
    "if idade > 17 and nome == \"Bob\":\n",
    "    print(\"Autorizado!\")"
   ]
  },
  {
   "cell_type": "markdown",
   "id": "a313d53d",
   "metadata": {},
   "source": [
    " Operadores lógicos funcionam assim:\n",
    "- Operador **and** - Retorna True se ambas as declarações forem verdadeiras \n",
    "- Operador **or** - Retorna True se uma das declarações for verdadeira\n",
    "- Operador **not** - Inverte o resultado, retorna False se o resultado for True"
   ]
  },
  {
   "cell_type": "code",
   "execution_count": 26,
   "id": "208b8681",
   "metadata": {},
   "outputs": [
    {
     "name": "stdout",
     "output_type": "stream",
     "text": [
      "Isso está sendo impresso porque as duas condicões são verdadeiras\n"
     ]
    }
   ],
   "source": [
    "# Operador and\n",
    "\n",
    "numero = 4\n",
    "\n",
    "if (numero > 2) and (numero % 2 == 0):\n",
    "    print(\"Isso está sendo impresso porque as duas condicões são verdadeiras\")"
   ]
  },
  {
   "cell_type": "code",
   "execution_count": 27,
   "id": "aa005748",
   "metadata": {},
   "outputs": [
    {
     "name": "stdout",
     "output_type": "stream",
     "text": [
      "Isso está sendo impresso porque uma das condições é falsa!\n"
     ]
    }
   ],
   "source": [
    "# Operador and \n",
    "\n",
    "numero = 4\n",
    "\n",
    "if (numero > 5) and (numero % 2 == 0):\n",
    "    print(\"Isso está sendo impresso porque as duas condições são verdadeiras!\")\n",
    "else: \n",
    "    print(\"Isso está sendo impresso porque uma das condições é falsa!\")"
   ]
  },
  {
   "cell_type": "code",
   "execution_count": 28,
   "id": "3e8f476d",
   "metadata": {},
   "outputs": [
    {
     "name": "stdout",
     "output_type": "stream",
     "text": [
      "Isso está sendo impresso porque uma das duas condições é verdadeira\n"
     ]
    }
   ],
   "source": [
    "# Operador or\n",
    "\n",
    "numero = 4\n",
    "\n",
    "if (numero > 5) or (numero % 2 == 0):\n",
    "    print(\"Isso está sendo impresso porque uma das duas condições é verdadeira\")"
   ]
  },
  {
   "cell_type": "code",
   "execution_count": null,
   "id": "41542189",
   "metadata": {},
   "outputs": [],
   "source": [
    "# Operador not\n",
    "\n",
    "numero = 4\n",
    "\n",
    "if not(numero > 5) and (numero % 2 == 0):\n",
    "    print(\"Isso está sendo impresso porque as duas condições são verdadeiras\")\n",
    "else:\n",
    "    print(\"Isso está sendo impresso porque uma das condições é falsa\")"
   ]
  },
  {
   "cell_type": "code",
   "execution_count": 29,
   "id": "45fe30fa",
   "metadata": {},
   "outputs": [
    {
     "name": "stdout",
     "output_type": "stream",
     "text": [
      "Isso está sendo impresso porque as duas primeiras condições são verdadeiras ou a terceira é verdadeira!\n"
     ]
    }
   ],
   "source": [
    "# Operador and, or e not\n",
    "\n",
    "numero = 4\n",
    "\n",
    "if (not(numero > 5) and (numero % 2 == 0)) or (numero == 4):\n",
    "    print(\"Isso está sendo impresso porque as duas primeiras condições são verdadeiras ou a terceira é verdadeira!\")"
   ]
  },
  {
   "cell_type": "code",
   "execution_count": 30,
   "id": "6908e6b6",
   "metadata": {},
   "outputs": [
    {
     "name": "stdout",
     "output_type": "stream",
     "text": [
      "Você foi Aprovado!\n"
     ]
    }
   ],
   "source": [
    "# Exemplo com uso de variaveis \n",
    "\n",
    "disciplina = \"Data Science\"\n",
    "nota_final = 70\n",
    "\n",
    "if disciplina == \"Data Science\" and nota_final >= 70:\n",
    "    print(\"Você foi Aprovado!\")\n",
    "else: \n",
    "    print(\"Lamento, acho que você precisa estudar mais!\")"
   ]
  },
  {
   "cell_type": "code",
   "execution_count": 31,
   "id": "4dda58ce",
   "metadata": {},
   "outputs": [
    {
     "name": "stdout",
     "output_type": "stream",
     "text": [
      "Você precisa estudar mais!\n"
     ]
    }
   ],
   "source": [
    "# Usando mais de uma condição na clausula if\n",
    "\n",
    "disciplina = \"Data Science\"\n",
    "nota_final = 60\n",
    "\n",
    "if disciplina == \"Data Science\" and nota_final >= 70:\n",
    "    print(\"Você foi Aprovado!\")\n",
    "else:\n",
    "    print(\"Você precisa estudar mais!\")"
   ]
  },
  {
   "cell_type": "code",
   "execution_count": null,
   "id": "64dcd223",
   "metadata": {},
   "outputs": [],
   "source": []
  },
  {
   "cell_type": "code",
   "execution_count": null,
   "id": "804dc144",
   "metadata": {},
   "outputs": [],
   "source": []
  },
  {
   "cell_type": "code",
   "execution_count": null,
   "id": "a48b353a",
   "metadata": {},
   "outputs": [],
   "source": []
  },
  {
   "cell_type": "code",
   "execution_count": null,
   "id": "730b5710",
   "metadata": {},
   "outputs": [],
   "source": []
  }
 ],
 "metadata": {
  "kernelspec": {
   "display_name": "Python 3 (ipykernel)",
   "language": "python",
   "name": "python3"
  },
  "language_info": {
   "codemirror_mode": {
    "name": "ipython",
    "version": 3
   },
   "file_extension": ".py",
   "mimetype": "text/x-python",
   "name": "python",
   "nbconvert_exporter": "python",
   "pygments_lexer": "ipython3",
   "version": "3.9.13"
  }
 },
 "nbformat": 4,
 "nbformat_minor": 5
}
