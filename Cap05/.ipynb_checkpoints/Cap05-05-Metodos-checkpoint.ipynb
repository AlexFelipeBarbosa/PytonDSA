{
 "cells": [
  {
   "cell_type": "markdown",
   "id": "b9986d95",
   "metadata": {},
   "source": [
    "# Alex Felipe Barbosa\n",
    "\n",
    "## Data Science Academy\n",
    "\n",
    "### Fundamentos da Linguagem Python para Analise de Dados e Data Science\n",
    "\n",
    "### Capitulo 5 - Métodos\n",
    "#### 21/02/2024"
   ]
  },
  {
   "cell_type": "code",
   "execution_count": 1,
   "id": "2d904f3c",
   "metadata": {},
   "outputs": [
    {
     "name": "stdout",
     "output_type": "stream",
     "text": [
      "Versão da Linguagem Python usada neste Jupyter Notebook:  3.9.13\n"
     ]
    }
   ],
   "source": [
    "# Versão da Linguagem Python\n",
    "from platform import python_version\n",
    "print(\"Versão da Linguagem Python usada neste Jupyter Notebook: \", python_version())"
   ]
  },
  {
   "cell_type": "markdown",
   "id": "d551dc1e",
   "metadata": {},
   "source": [
    "# Métodos\n",
    "Tudo em Python é objeto. E cada objeto tem métodos e atributos.\n",
    "\n",
    "- Atributos são propriedades, caracteristicas do objeto.\n",
    "- Métodos são funções com ações que podem ser executadas nos objetos"
   ]
  },
  {
   "cell_type": "code",
   "execution_count": 2,
   "id": "5a4b73a8",
   "metadata": {},
   "outputs": [],
   "source": [
    "# Criando uma lista \n",
    "lista = [100, -2, 12, 65, 0]"
   ]
  },
  {
   "cell_type": "code",
   "execution_count": 3,
   "id": "1ed2f868",
   "metadata": {},
   "outputs": [
    {
     "data": {
      "text/plain": [
       "list"
      ]
     },
     "execution_count": 3,
     "metadata": {},
     "output_type": "execute_result"
    }
   ],
   "source": [
    "type(lista)"
   ]
  },
  {
   "cell_type": "code",
   "execution_count": 4,
   "id": "850fee8b",
   "metadata": {},
   "outputs": [],
   "source": [
    "# Usando um método do objeto lista\n",
    "lista.append(100)"
   ]
  },
  {
   "cell_type": "code",
   "execution_count": 5,
   "id": "bd825e18",
   "metadata": {},
   "outputs": [
    {
     "name": "stdout",
     "output_type": "stream",
     "text": [
      "[100, -2, 12, 65, 0, 100]\n"
     ]
    }
   ],
   "source": [
    "# Imprimindo a lista\n",
    "print(lista)"
   ]
  },
  {
   "cell_type": "code",
   "execution_count": 6,
   "id": "5cebcbf5",
   "metadata": {},
   "outputs": [
    {
     "data": {
      "text/plain": [
       "2"
      ]
     },
     "execution_count": 6,
     "metadata": {},
     "output_type": "execute_result"
    }
   ],
   "source": [
    "# Usando um método do objeto lista\n",
    "lista.count(100)"
   ]
  },
  {
   "cell_type": "code",
   "execution_count": 7,
   "id": "8ea69aee",
   "metadata": {},
   "outputs": [
    {
     "name": "stdout",
     "output_type": "stream",
     "text": [
      "Help on built-in function count:\n",
      "\n",
      "count(value, /) method of builtins.list instance\n",
      "    Return number of occurrences of value.\n",
      "\n"
     ]
    }
   ],
   "source": [
    "# A função help() explica como utilizar cada metodo de um objeto\n",
    "help(lista.count)"
   ]
  },
  {
   "cell_type": "code",
   "execution_count": 8,
   "id": "77f17445",
   "metadata": {},
   "outputs": [
    {
     "data": {
      "text/plain": [
       "['__add__',\n",
       " '__class__',\n",
       " '__class_getitem__',\n",
       " '__contains__',\n",
       " '__delattr__',\n",
       " '__delitem__',\n",
       " '__dir__',\n",
       " '__doc__',\n",
       " '__eq__',\n",
       " '__format__',\n",
       " '__ge__',\n",
       " '__getattribute__',\n",
       " '__getitem__',\n",
       " '__gt__',\n",
       " '__hash__',\n",
       " '__iadd__',\n",
       " '__imul__',\n",
       " '__init__',\n",
       " '__init_subclass__',\n",
       " '__iter__',\n",
       " '__le__',\n",
       " '__len__',\n",
       " '__lt__',\n",
       " '__mul__',\n",
       " '__ne__',\n",
       " '__new__',\n",
       " '__reduce__',\n",
       " '__reduce_ex__',\n",
       " '__repr__',\n",
       " '__reversed__',\n",
       " '__rmul__',\n",
       " '__setattr__',\n",
       " '__setitem__',\n",
       " '__sizeof__',\n",
       " '__str__',\n",
       " '__subclasshook__',\n",
       " 'append',\n",
       " 'clear',\n",
       " 'copy',\n",
       " 'count',\n",
       " 'extend',\n",
       " 'index',\n",
       " 'insert',\n",
       " 'pop',\n",
       " 'remove',\n",
       " 'reverse',\n",
       " 'sort']"
      ]
     },
     "execution_count": 8,
     "metadata": {},
     "output_type": "execute_result"
    }
   ],
   "source": [
    "# A função dir() mostra todos os metodos e atributos de um objeto\n",
    "dir(lista)"
   ]
  },
  {
   "cell_type": "code",
   "execution_count": 9,
   "id": "53b7f358",
   "metadata": {},
   "outputs": [
    {
     "data": {
      "text/plain": [
       "str"
      ]
     },
     "execution_count": 9,
     "metadata": {},
     "output_type": "execute_result"
    }
   ],
   "source": [
    "frase = 'Isso é uma string'\n",
    "type(frase)"
   ]
  },
  {
   "cell_type": "code",
   "execution_count": 10,
   "id": "65e5fc4b",
   "metadata": {},
   "outputs": [
    {
     "data": {
      "text/plain": [
       "'Isso é uma string'"
      ]
     },
     "execution_count": 10,
     "metadata": {},
     "output_type": "execute_result"
    }
   ],
   "source": [
    "# Verificando métodos e atributos\n",
    "frase"
   ]
  },
  {
   "cell_type": "code",
   "execution_count": 11,
   "id": "626bc19e",
   "metadata": {},
   "outputs": [
    {
     "name": "stdout",
     "output_type": "stream",
     "text": [
      "['Isso', 'é', 'uma', 'string']\n"
     ]
    }
   ],
   "source": [
    "# O metodo de um objeto pode ser chamado dentro de uma função, como print()\n",
    "print(frase.split())"
   ]
  },
  {
   "cell_type": "markdown",
   "id": "2c512cd6",
   "metadata": {},
   "source": [
    "Fim"
   ]
  }
 ],
 "metadata": {
  "kernelspec": {
   "display_name": "Python 3 (ipykernel)",
   "language": "python",
   "name": "python3"
  },
  "language_info": {
   "codemirror_mode": {
    "name": "ipython",
    "version": 3
   },
   "file_extension": ".py",
   "mimetype": "text/x-python",
   "name": "python",
   "nbconvert_exporter": "python",
   "pygments_lexer": "ipython3",
   "version": "3.9.13"
  }
 },
 "nbformat": 4,
 "nbformat_minor": 5
}
