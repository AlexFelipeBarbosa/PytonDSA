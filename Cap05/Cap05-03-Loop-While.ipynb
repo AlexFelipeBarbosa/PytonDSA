{
 "cells": [
  {
   "cell_type": "markdown",
   "id": "1c635791",
   "metadata": {},
   "source": [
    "# Alex Felipe Barbosa\n",
    "\n",
    "## Data Science Academy\n",
    "\n",
    "### Fundamentos da Linguagem Python para Analise de Dados e Data Science\n",
    "\n",
    "### Capitulo 5 - Loop While\n",
    "\n",
    "#### 21/02/2024"
   ]
  },
  {
   "cell_type": "code",
   "execution_count": 1,
   "id": "c7981ec8",
   "metadata": {},
   "outputs": [
    {
     "name": "stdout",
     "output_type": "stream",
     "text": [
      "Versão da Linguagem Python usada neste Jupyter Notebook:  3.9.13\n"
     ]
    }
   ],
   "source": [
    "# Versão da Linguagem Python\n",
    "from platform import python_version\n",
    "print(\"Versão da Linguagem Python usada neste Jupyter Notebook: \", python_version())"
   ]
  },
  {
   "cell_type": "markdown",
   "id": "e6ec264c",
   "metadata": {},
   "source": [
    "# Loop While"
   ]
  },
  {
   "cell_type": "code",
   "execution_count": 2,
   "id": "dcb3a9be",
   "metadata": {},
   "outputs": [
    {
     "name": "stdout",
     "output_type": "stream",
     "text": [
      "0\n",
      "1\n",
      "2\n",
      "3\n",
      "4\n",
      "5\n",
      "6\n",
      "7\n",
      "8\n",
      "9\n"
     ]
    }
   ],
   "source": [
    "# Usando o loop While para imprimir os valores de 0 a 9\n",
    "# A condição tem que deixar de ser verdadeira dentro do loop, senão pode travar o navegador ou mesmo o computador.\n",
    "valor = 0\n",
    "while valor < 10:\n",
    "    print(valor)\n",
    "    valor = valor +1\n"
   ]
  },
  {
   "cell_type": "code",
   "execution_count": 3,
   "id": "e2d7619e",
   "metadata": {},
   "outputs": [],
   "source": [
    "# Entra no loop somente se a condição for verdadeira\n",
    "valor = 11\n",
    "while valor < 10:\n",
    "    print(valor)\n",
    "    valor = valor + 1"
   ]
  },
  {
   "cell_type": "code",
   "execution_count": 4,
   "id": "481bbc2c",
   "metadata": {},
   "outputs": [
    {
     "name": "stdout",
     "output_type": "stream",
     "text": [
      "O valor de x é:  0\n",
      "X ainda é menor que 10, somando 1 a x\n",
      "O valor de x é:  1\n",
      "X ainda é menor que 10, somando 1 a x\n",
      "O valor de x é:  2\n",
      "X ainda é menor que 10, somando 1 a x\n",
      "O valor de x é:  3\n",
      "X ainda é menor que 10, somando 1 a x\n",
      "O valor de x é:  4\n",
      "X ainda é menor que 10, somando 1 a x\n",
      "O valor de x é:  5\n",
      "X ainda é menor que 10, somando 1 a x\n",
      "O valor de x é:  6\n",
      "X ainda é menor que 10, somando 1 a x\n",
      "O valor de x é:  7\n",
      "X ainda é menor que 10, somando 1 a x\n",
      "O valor de x é:  8\n",
      "X ainda é menor que 10, somando 1 a x\n",
      "O valor de x é:  9\n",
      "X ainda é menor que 10, somando 1 a x\n",
      "Loop Concluido\n",
      "10\n"
     ]
    }
   ],
   "source": [
    "# Também é possivel usar a clausula else para encerrar um loop While\n",
    "x = 0\n",
    "\n",
    "while x < 10:\n",
    "    print('O valor de x é: ', x)\n",
    "    print('X ainda é menor que 10, somando 1 a x')\n",
    "    x +=1\n",
    "else:\n",
    "    print ('Loop Concluido')\n",
    "print(x)"
   ]
  },
  {
   "cell_type": "markdown",
   "id": "5552ef7b",
   "metadata": {},
   "source": [
    "# Pass, Break, Continue"
   ]
  },
  {
   "cell_type": "code",
   "execution_count": 5,
   "id": "b7a0ddea",
   "metadata": {},
   "outputs": [
    {
     "name": "stdout",
     "output_type": "stream",
     "text": [
      "0\n",
      "1\n",
      "2\n",
      "3\n"
     ]
    }
   ],
   "source": [
    "# Se encontramos o número 4 interrompemos o loop\n",
    "valor = 0\n",
    "\n",
    "while valor < 10:\n",
    "    if valor == 4:\n",
    "        break\n",
    "    else:\n",
    "        pass\n",
    "    print(valor)\n",
    "    valor +=1"
   ]
  },
  {
   "cell_type": "code",
   "execution_count": 6,
   "id": "f1d8ae39",
   "metadata": {},
   "outputs": [
    {
     "name": "stdout",
     "output_type": "stream",
     "text": [
      "P\n",
      "y\n",
      "t\n",
      "h\n",
      "o\n",
      "n\n",
      " \n",
      "é\n",
      " \n",
      " \n",
      "i\n",
      "n\n",
      "c\n",
      "r\n",
      "i\n",
      "v\n",
      "e\n",
      "l\n"
     ]
    }
   ],
   "source": [
    "# Desconsideramos a letra z ao imprimir os caracteres da frase\n",
    "for letra in \"Python é zzz incrivel\":\n",
    "    if letra == 'z':\n",
    "        continue\n",
    "    print(letra)"
   ]
  },
  {
   "cell_type": "markdown",
   "id": "be1a6075",
   "metadata": {},
   "source": [
    "# While e For juntos\n",
    "\n",
    "Vamos encontrar números primos em uma coleção de números usando loop while e for juntos.\n",
    "\n",
    "- Um número primo é um número natural maior do que 1 que é divisivel apenas por 1 e por ele mesmo. Isso significa que não há nenhum outro numero inteiro que possa dividir o número primo sem deixar o resto. Por exemplo, o número 2 é primo, pois é divisivel apenas por 1 e 2. O número 4 não é primo, pois é divisivel por 2."
   ]
  },
  {
   "cell_type": "code",
   "execution_count": 7,
   "id": "3e115b72",
   "metadata": {},
   "outputs": [
    {
     "name": "stdout",
     "output_type": "stream",
     "text": [
      "[2, 3, 5, 7, 11, 13, 17, 19, 23, 29]\n",
      "Wall time: 995 µs\n"
     ]
    }
   ],
   "source": [
    "%%time\n",
    "\n",
    "# Encontramos números primos entre 2 e 30 usando loop for e while\n",
    "\n",
    "# Variavel para armazenar números primos\n",
    "primos = []\n",
    "\n",
    "# Loop for percorrer números de 2 a 30\n",
    "for num in range(2, 31):\n",
    "    \n",
    "    # variavel de controle\n",
    "    eh_primo = True\n",
    "    \n",
    "    # Loop while para verificar se o número é primo\n",
    "    i = 2\n",
    "    while i <= num // 2:\n",
    "        if num % i == 0:\n",
    "            eh_primo = False\n",
    "            break\n",
    "        i += 1\n",
    "        \n",
    "    # Adicionando o número primo na lista\n",
    "    if eh_primo:\n",
    "        primos.append(num)\n",
    "        \n",
    "# Imprimindo a lista de números primos\n",
    "print(primos)\n"
   ]
  },
  {
   "cell_type": "code",
   "execution_count": 8,
   "id": "3d203b14",
   "metadata": {},
   "outputs": [
    {
     "name": "stdout",
     "output_type": "stream",
     "text": [
      "2 é um número primo\n",
      "3 é um número primo\n",
      "5 é um número primo\n",
      "7 é um número primo\n",
      "11 é um número primo\n",
      "13 é um número primo\n",
      "17 é um número primo\n",
      "19 é um número primo\n",
      "23 é um número primo\n",
      "29 é um número primo\n",
      "Wall time: 1.28 ms\n"
     ]
    }
   ],
   "source": [
    "%%time\n",
    "\n",
    "# Encontrando números primos entre 2 e 30 usando loop for e while \n",
    "# Outro Exemplo\n",
    "\n",
    "# Loop for para percorrer números de 2 a 30\n",
    "for i in range(2,31):\n",
    "    \n",
    "    # Variavel de controle\n",
    "    j = 2\n",
    "    \n",
    "    # Contador\n",
    "    valor = 0\n",
    "    \n",
    "    # Loop While para verificar se o número é primo\n",
    "    while j < i:\n",
    "        if i % j == 0:\n",
    "            valor = 1\n",
    "            j = j + 1\n",
    "        else:\n",
    "            j = j + 1\n",
    "    \n",
    "    if valor == 0:\n",
    "        print(str(i) + \" é um número primo\")\n",
    "        valor = 0\n",
    "    else:\n",
    "        valor = 0"
   ]
  },
  {
   "cell_type": "markdown",
   "id": "e8354118",
   "metadata": {},
   "source": [
    "Fim"
   ]
  },
  {
   "cell_type": "code",
   "execution_count": null,
   "id": "1367daad",
   "metadata": {},
   "outputs": [],
   "source": []
  }
 ],
 "metadata": {
  "kernelspec": {
   "display_name": "Python 3 (ipykernel)",
   "language": "python",
   "name": "python3"
  },
  "language_info": {
   "codemirror_mode": {
    "name": "ipython",
    "version": 3
   },
   "file_extension": ".py",
   "mimetype": "text/x-python",
   "name": "python",
   "nbconvert_exporter": "python",
   "pygments_lexer": "ipython3",
   "version": "3.9.13"
  }
 },
 "nbformat": 4,
 "nbformat_minor": 5
}
