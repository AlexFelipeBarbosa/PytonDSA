{
 "cells": [
  {
   "cell_type": "markdown",
   "id": "99dac71f-66bd-4fe5-87f7-847067e03d89",
   "metadata": {},
   "source": [
    "# Alex Felipe Barbosa\n",
    "\n",
    "## Data Science Academy\n",
    "\n",
    "### Fundamentos da Linguagem Python para Analise de Dados e Data Science\n",
    "\n",
    "### Capitulo 17 - Introdução a Deep Learning com TensorFlow\n",
    "\n",
    "#### 08/04/2024"
   ]
  },
  {
   "cell_type": "code",
   "execution_count": null,
   "id": "d06c2332-8210-40e1-bd8f-d6cf80b12a68",
   "metadata": {},
   "outputs": [],
   "source": [
    "# Versão da Linguagem Python\n",
    "from platform import python_version\n",
    "print(\"Versão da Linguagem Python usada neste Jupyter Notebook: \", python_version())"
   ]
  },
  {
   "cell_type": "markdown",
   "id": "3b0092bd-4dfd-45a7-8c10-a3d1e7bc8331",
   "metadata": {},
   "source": [
    "## Problema de Negócio:\n",
    "Construir um modelo de Inteligência Artificial capaz de classificar imagens considerando 10 categorias: [airplane, automobile, bird, cat, deer, dog, frog, horse, ship, truck]. Dadauma nova imagem de uma dessas categorias o modelo deve ser capaz de classificar e indicar o que é a imagem"
   ]
  },
  {
   "cell_type": "markdown",
   "id": "ee0fa270-daaa-42df-a633-72cd0a66f858",
   "metadata": {},
   "source": [
    "https://www.tensorflow.org/\n",
    "\n"
   ]
  },
  {
   "cell_type": "code",
   "execution_count": null,
   "id": "59ce0933-7fa0-45ed-99f9-78e083242694",
   "metadata": {},
   "outputs": [],
   "source": [
    "# Instala o TensorFlow\n",
    "!pip install -q tensorflow==2.12"
   ]
  },
  {
   "cell_type": "code",
   "execution_count": null,
   "id": "99a1b46f-37f7-4c6f-90ca-e57602af9409",
   "metadata": {},
   "outputs": [],
   "source": [
    "# Silencia mensagens do TF\n",
    "%env TF_CPP_MIN_LOG_LEVEL=3"
   ]
  },
  {
   "cell_type": "code",
   "execution_count": null,
   "id": "8227209a-fe13-4edd-adb9-34a737b14541",
   "metadata": {},
   "outputs": [],
   "source": [
    "# Imports \n",
    "import tensorflow as tf\n",
    "from tensorflow.keras import datasets, layers, models\n",
    "import matplotlib.pyplot as plt\n",
    "import numpy as np\n",
    "from PIL import Image"
   ]
  },
  {
   "cell_type": "markdown",
   "id": "b619f2da-473d-4964-98b2-637f2ddc9cc8",
   "metadata": {},
   "source": [
    "## Carregando os dados\n",
    "https://www.cs.toronto.edu/~kriz/cifar.html"
   ]
  },
  {
   "cell_type": "code",
   "execution_count": null,
   "id": "08626e21-4989-48cf-ae8e-ef7e3820c22c",
   "metadata": {},
   "outputs": [],
   "source": [
    "# Carrega o dataset CIFAR-10\n",
    "(imagens_treino, labels_treino), (imagem_teste, labels_teste) = datasets.cifar10.load_data()"
   ]
  },
  {
   "cell_type": "code",
   "execution_count": null,
   "id": "9964ceaa-93ba-47b7-9ba2-30d1279020e6",
   "metadata": {},
   "outputs": [],
   "source": []
  },
  {
   "cell_type": "code",
   "execution_count": null,
   "id": "2cdc261c-0997-4bb1-b89f-6ea97696bf1d",
   "metadata": {},
   "outputs": [],
   "source": []
  },
  {
   "cell_type": "code",
   "execution_count": null,
   "id": "8b8bd45e-e5ef-49ae-89f7-5e00e6344770",
   "metadata": {},
   "outputs": [],
   "source": []
  },
  {
   "cell_type": "code",
   "execution_count": null,
   "id": "078039f1-4376-42dd-9658-13e9da8c2568",
   "metadata": {},
   "outputs": [],
   "source": []
  },
  {
   "cell_type": "code",
   "execution_count": null,
   "id": "a9227a22-e77c-4866-af17-6922115852cb",
   "metadata": {},
   "outputs": [],
   "source": []
  },
  {
   "cell_type": "code",
   "execution_count": null,
   "id": "95def05c-f233-4cca-89d4-53ef93e0b9eb",
   "metadata": {},
   "outputs": [],
   "source": []
  },
  {
   "cell_type": "code",
   "execution_count": null,
   "id": "1b6a47aa-c62d-49ae-ab9b-e776d3a2c2e7",
   "metadata": {},
   "outputs": [],
   "source": []
  },
  {
   "cell_type": "code",
   "execution_count": null,
   "id": "3fddbfd5-67b5-4f57-bd64-045c7db75eba",
   "metadata": {},
   "outputs": [],
   "source": []
  },
  {
   "cell_type": "code",
   "execution_count": null,
   "id": "5b4db49a-4c2a-4cde-bae8-656d20e83989",
   "metadata": {},
   "outputs": [],
   "source": []
  },
  {
   "cell_type": "code",
   "execution_count": null,
   "id": "0fdfe9c5-ca54-42a0-a506-f5a39fba401c",
   "metadata": {},
   "outputs": [],
   "source": []
  },
  {
   "cell_type": "code",
   "execution_count": null,
   "id": "28e79cbb-c724-448c-9e44-dc46955a53b1",
   "metadata": {},
   "outputs": [],
   "source": []
  },
  {
   "cell_type": "code",
   "execution_count": null,
   "id": "5d2c0482-331a-4657-b88c-fad6a0faa4fd",
   "metadata": {},
   "outputs": [],
   "source": []
  },
  {
   "cell_type": "code",
   "execution_count": null,
   "id": "d2d4a69d-7099-4d05-82c8-071a1bf210af",
   "metadata": {},
   "outputs": [],
   "source": []
  },
  {
   "cell_type": "code",
   "execution_count": null,
   "id": "2891d1cd-c766-4f12-823a-f02007c3eaef",
   "metadata": {},
   "outputs": [],
   "source": []
  },
  {
   "cell_type": "code",
   "execution_count": null,
   "id": "43ab77ba-8bd9-4d51-af39-806b7e6368d5",
   "metadata": {},
   "outputs": [],
   "source": []
  },
  {
   "cell_type": "code",
   "execution_count": null,
   "id": "cab0f380-58ed-4ed7-acde-2b7672f213de",
   "metadata": {},
   "outputs": [],
   "source": []
  },
  {
   "cell_type": "code",
   "execution_count": null,
   "id": "64ded224-b1a3-4d7a-a2c3-a879b9c94ec4",
   "metadata": {},
   "outputs": [],
   "source": []
  },
  {
   "cell_type": "code",
   "execution_count": null,
   "id": "804340fb-d737-4835-93c5-7e637195bb0e",
   "metadata": {},
   "outputs": [],
   "source": []
  },
  {
   "cell_type": "code",
   "execution_count": null,
   "id": "975bb003-8ac8-43f6-8501-ab7c2227763c",
   "metadata": {},
   "outputs": [],
   "source": []
  },
  {
   "cell_type": "code",
   "execution_count": null,
   "id": "500bcfd7-e19a-40b2-b47c-15ee345b47db",
   "metadata": {},
   "outputs": [],
   "source": []
  },
  {
   "cell_type": "code",
   "execution_count": null,
   "id": "b0a045f5-7227-4e70-98c3-ed1dfcaf7735",
   "metadata": {},
   "outputs": [],
   "source": []
  },
  {
   "cell_type": "code",
   "execution_count": null,
   "id": "e71cc36c-caf4-4547-8607-95493c109a7d",
   "metadata": {},
   "outputs": [],
   "source": []
  },
  {
   "cell_type": "code",
   "execution_count": null,
   "id": "a3e46bdf-8d98-4c7f-aafe-3469225508ce",
   "metadata": {},
   "outputs": [],
   "source": []
  },
  {
   "cell_type": "code",
   "execution_count": null,
   "id": "a43f8fbd-66d2-4cd5-8226-c8954701d535",
   "metadata": {},
   "outputs": [],
   "source": []
  },
  {
   "cell_type": "code",
   "execution_count": null,
   "id": "28bde7c0-05ae-4120-b71a-85fd11926232",
   "metadata": {},
   "outputs": [],
   "source": []
  },
  {
   "cell_type": "code",
   "execution_count": null,
   "id": "4ca2df06-462f-4de5-9b25-599243f0ca07",
   "metadata": {},
   "outputs": [],
   "source": []
  },
  {
   "cell_type": "code",
   "execution_count": null,
   "id": "db235ecf-78be-4d6b-b8bc-6ca6da7d6fd2",
   "metadata": {},
   "outputs": [],
   "source": []
  },
  {
   "cell_type": "code",
   "execution_count": null,
   "id": "b80e9c34-8603-4389-9d42-5354509a371c",
   "metadata": {},
   "outputs": [],
   "source": []
  },
  {
   "cell_type": "code",
   "execution_count": null,
   "id": "b68ae831-675e-4c98-8668-8d2c3d5c177a",
   "metadata": {},
   "outputs": [],
   "source": []
  },
  {
   "cell_type": "code",
   "execution_count": null,
   "id": "712fc1f7-6a03-4939-96f0-034cd741f6da",
   "metadata": {},
   "outputs": [],
   "source": []
  },
  {
   "cell_type": "code",
   "execution_count": null,
   "id": "c71c31f9-8c2f-4a2b-a807-b18434b0c16a",
   "metadata": {},
   "outputs": [],
   "source": []
  },
  {
   "cell_type": "code",
   "execution_count": null,
   "id": "4811d49f-391e-43e4-8f3e-ad13394509b7",
   "metadata": {},
   "outputs": [],
   "source": []
  },
  {
   "cell_type": "code",
   "execution_count": null,
   "id": "4485b842-d025-4aba-90bd-147ef50595bc",
   "metadata": {},
   "outputs": [],
   "source": []
  }
 ],
 "metadata": {
  "kernelspec": {
   "display_name": "Python 3 (ipykernel)",
   "language": "python",
   "name": "python3"
  },
  "language_info": {
   "codemirror_mode": {
    "name": "ipython",
    "version": 3
   },
   "file_extension": ".py",
   "mimetype": "text/x-python",
   "name": "python",
   "nbconvert_exporter": "python",
   "pygments_lexer": "ipython3",
   "version": "3.11.7"
  }
 },
 "nbformat": 4,
 "nbformat_minor": 5
}
