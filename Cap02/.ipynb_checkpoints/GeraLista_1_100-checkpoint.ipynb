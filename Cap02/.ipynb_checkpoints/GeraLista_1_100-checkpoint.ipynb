{
 "cells": [
  {
   "cell_type": "markdown",
   "id": "c4bd2478",
   "metadata": {},
   "source": [
    "Alex Felipe Barbosa \n",
    "05/02/2024\n",
    "Curso: Fundamentos da Linguagem Python para Analise de Dados\n",
    "Data Science Academy"
   ]
  },
  {
   "cell_type": "markdown",
   "id": "3502565e",
   "metadata": {},
   "source": [
    "Gere um código Python que crie uma lista com números entre 1 e 100 e então imprima os números pares, mas somente se o número for divisivel por 4."
   ]
  },
  {
   "cell_type": "code",
   "execution_count": null,
   "id": "3e6d9b7d",
   "metadata": {},
   "outputs": [],
   "source": [
    "# Cria uma lista com os números entre 1 e 100\n",
    "numeros = list(range(1,101))"
   ]
  },
  {
   "cell_type": "code",
   "execution_count": 2,
   "id": "f6b70514",
   "metadata": {},
   "outputs": [
    {
     "data": {
      "text/plain": [
       "list"
      ]
     },
     "execution_count": 2,
     "metadata": {},
     "output_type": "execute_result"
    }
   ],
   "source": [
    "# Verificando o Tipo da Variavel numeros\n",
    "type(numeros)"
   ]
  },
  {
   "cell_type": "code",
   "execution_count": 1,
   "id": "897618e4",
   "metadata": {},
   "outputs": [
    {
     "name": "stdout",
     "output_type": "stream",
     "text": [
      "4\n",
      "8\n",
      "12\n",
      "16\n",
      "20\n",
      "24\n",
      "28\n",
      "32\n",
      "36\n",
      "40\n",
      "44\n",
      "48\n",
      "52\n",
      "56\n",
      "60\n",
      "64\n",
      "68\n",
      "72\n",
      "76\n",
      "80\n",
      "84\n",
      "88\n",
      "92\n",
      "96\n",
      "100\n"
     ]
    }
   ],
   "source": [
    "#Percorre a lista e verifica se o número é PAR e divisivel por 4\n",
    "for numero in numeros:\n",
    "    if numero % 2 == 0 and numero % 4 == 0:\n",
    "        print(numero)"
   ]
  }
 ],
 "metadata": {
  "kernelspec": {
   "display_name": "Python 3 (ipykernel)",
   "language": "python",
   "name": "python3"
  },
  "language_info": {
   "codemirror_mode": {
    "name": "ipython",
    "version": 3
   },
   "file_extension": ".py",
   "mimetype": "text/x-python",
   "name": "python",
   "nbconvert_exporter": "python",
   "pygments_lexer": "ipython3",
   "version": "3.9.13"
  }
 },
 "nbformat": 4,
 "nbformat_minor": 5
}
