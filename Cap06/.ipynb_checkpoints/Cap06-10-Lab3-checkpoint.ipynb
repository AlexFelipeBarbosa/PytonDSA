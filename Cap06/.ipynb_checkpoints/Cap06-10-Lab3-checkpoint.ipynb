{
 "cells": [
  {
   "cell_type": "markdown",
   "id": "d7d7eff9",
   "metadata": {},
   "source": [
    "# Alex Felipe Barbosa\n",
    "\n",
    "## Data Science Academy\n",
    "\n",
    "### Fundamentos da Linguagem Python para Analise de Dados e Data Science\n",
    "\n",
    "### Capitulo 6 - Lab3 - Trabalhando com Expressões Regulares em Python com ChatGPT\n",
    "#### 29/02/2024"
   ]
  },
  {
   "cell_type": "code",
   "execution_count": 2,
   "id": "51a7e222",
   "metadata": {},
   "outputs": [
    {
     "name": "stdout",
     "output_type": "stream",
     "text": [
      "Versão da Linguagem Python usada neste Jupyter Notebook:  3.9.13\n"
     ]
    }
   ],
   "source": [
    "# Versão da Linguagem Python\n",
    "from platform import python_version\n",
    "print(\"Versão da Linguagem Python usada neste Jupyter Notebook: \", python_version())"
   ]
  },
  {
   "cell_type": "markdown",
   "id": "1e02ca5a",
   "metadata": {},
   "source": [
    "# Expressões Regulares\n",
    "Expressões regulares são padrões usados para combinar ou encontrar ocorrências de sequencias de caracteres em uma string. Em Python, expressões regulares são geralmente usadas para manipular strings e realizar tarefas como validação de entrada de dados, extração de informações de strings e substituição de texto"
   ]
  },
  {
   "cell_type": "code",
   "execution_count": 3,
   "id": "229b345a",
   "metadata": {},
   "outputs": [],
   "source": [
    "import re"
   ]
  },
  {
   "cell_type": "code",
   "execution_count": 4,
   "id": "424f6f13",
   "metadata": {},
   "outputs": [],
   "source": [
    "texto = \"Meu e-mail é exemplo@gmail.com e você pode me contatar em outro_email@yahoo.com.br\""
   ]
  },
  {
   "cell_type": "code",
   "execution_count": 5,
   "id": "73800436",
   "metadata": {},
   "outputs": [],
   "source": [
    "# Expressão regular para contar quantas vezes o caracter @ aparece no texto\n",
    "resultado = len(re.findall(\"@\", texto))"
   ]
  },
  {
   "cell_type": "code",
   "execution_count": 7,
   "id": "41ff2c04",
   "metadata": {},
   "outputs": [
    {
     "name": "stdout",
     "output_type": "stream",
     "text": [
      "O caractere '@' apareceu 2 vezes no texto.\n"
     ]
    }
   ],
   "source": [
    "print(\"O caractere '@' apareceu\", resultado, \"vezes no texto.\")"
   ]
  },
  {
   "cell_type": "code",
   "execution_count": 8,
   "id": "c46d2f18",
   "metadata": {},
   "outputs": [],
   "source": [
    "# Expressão regular para extrair a palavra que aparece após a palavra \"você\" em um texto\n",
    "resultado = re.findall(r'você (\\w+)',texto)"
   ]
  },
  {
   "cell_type": "code",
   "execution_count": 9,
   "id": "159e69af",
   "metadata": {},
   "outputs": [
    {
     "name": "stdout",
     "output_type": "stream",
     "text": [
      "A palavra após 'você' é: pode\n"
     ]
    }
   ],
   "source": [
    "print(\"A palavra após 'você' é:\", resultado[0])"
   ]
  },
  {
   "cell_type": "markdown",
   "id": "14d5ed22",
   "metadata": {},
   "source": [
    "- Nota: O r antes da string representa a expressão regular em Python é usado para indicar que a string é uma string literal raw. Isso significa que as barras invertidas() não são interpretadas como caracteres de escape, mas são incluídas na expressão regular como parte do padrão "
   ]
  },
  {
   "cell_type": "code",
   "execution_count": 10,
   "id": "548059d8",
   "metadata": {},
   "outputs": [],
   "source": [
    "# Expressão regular para extrair endereços de e-mail de um string\n",
    "emails = re.findall(r'\\b[A-Za-z0-9._%+-]+@[A-Za-z0-9.-]+\\.[A-Z|a-z]{2,}\\b', texto)"
   ]
  },
  {
   "cell_type": "code",
   "execution_count": 11,
   "id": "dc20a9b0",
   "metadata": {},
   "outputs": [
    {
     "name": "stdout",
     "output_type": "stream",
     "text": [
      "['exemplo@gmail.com', 'outro_email@yahoo.com.br']\n"
     ]
    }
   ],
   "source": [
    "print(emails)"
   ]
  },
  {
   "cell_type": "code",
   "execution_count": 12,
   "id": "8cb9f959",
   "metadata": {},
   "outputs": [],
   "source": [
    "text = \"O aluno estava incrivelmente perdido, mas encontrou a DSA e rapidamente começou a aprender.\""
   ]
  },
  {
   "cell_type": "code",
   "execution_count": 13,
   "id": "19f68f3a",
   "metadata": {},
   "outputs": [
    {
     "name": "stdout",
     "output_type": "stream",
     "text": [
      "15-28: incrivelmente\n",
      "60-71: rapidamente\n"
     ]
    }
   ],
   "source": [
    "# Extraindo os advérbios da frase\n",
    "for m in re.finditer(r\"\\w+mente\\b\", text):\n",
    "    print('%02d-%02d: %s' % (m.start(), m.end(), m.group(0)))"
   ]
  },
  {
   "cell_type": "markdown",
   "id": "418d89c5",
   "metadata": {},
   "source": [
    "# REGEX com ChatGPT\n",
    "- Música: Tempo Perdido\n",
    "- Legião Urbana"
   ]
  },
  {
   "cell_type": "code",
   "execution_count": 14,
   "id": "4ccfa141",
   "metadata": {},
   "outputs": [],
   "source": [
    "# Variavel do tipo String\n",
    "musica = '''\n",
    "Todos os dias quando acordo\n",
    "Não tenho mais o tempo que passou\n",
    "Mas tenho muito tempo\n",
    "Temos todo o tempo do mundo\n",
    "\n",
    "Todos os dias antes de dormir\n",
    "Lembro e esqueço como foi o dia\n",
    "Sempre em frente, não temos tempo a perder\n",
    "\n",
    "Nosso suor sagrado é bem mais belo\n",
    "Que esse sangue amargo e tão sério\n",
    "E a fé que nos mantém erguidos\n",
    "Vem do amor que nos moveu\n",
    "\n",
    "Todos os dias quando acordo\n",
    "Não tenho mais o tempo que passou\n",
    "Mas tenho muito tempo\n",
    "Temos todo o tempo do mundo\n",
    "\n",
    "Nós temos todo o tempo do mundo\n",
    "Todos os dias antes de dormir\n",
    "Lembro e esqueço como foi o dia\n",
    "Sempre em frente, não temos tempo a perder\n",
    "\n",
    "Nosso suor sagrado é bem mais belo\n",
    "Que esse sangue amargo e tão sério\n",
    "E a fé que nos mantém erguidos\n",
    "Vem do amor que nos moveu\n",
    "\n",
    "Todos os dias quando acordo\n",
    "Não tenho mais o tempo que passou\n",
    "Mas tenho muito tempo\n",
    "Temos todo o tempo do mundo\n",
    "\n",
    "Todos os dias quando acordo\n",
    "Não tenho mais o tempo que passou\n",
    "Mas tenho muito tempo\n",
    "Temos todo o tempo do mundo\n",
    "'''"
   ]
  },
  {
   "cell_type": "code",
   "execution_count": 15,
   "id": "d5fc569a",
   "metadata": {},
   "outputs": [
    {
     "name": "stdout",
     "output_type": "stream",
     "text": [
      "\n",
      "Todos os dias quando acordo\n",
      "Não tenho mais o tempo que passou\n",
      "Mas tenho muito tempo\n",
      "Temos todo o tempo do mundo\n",
      "\n",
      "Todos os dias antes de dormir\n",
      "Lembro e esqueço como foi o dia\n",
      "Sempre em frente, não temos tempo a perder\n",
      "\n",
      "Nosso suor sagrado é bem mais belo\n",
      "Que esse sangue amargo e tão sério\n",
      "E a fé que nos mantém erguidos\n",
      "Vem do amor que nos moveu\n",
      "\n",
      "Todos os dias quando acordo\n",
      "Não tenho mais o tempo que passou\n",
      "Mas tenho muito tempo\n",
      "Temos todo o tempo do mundo\n",
      "\n",
      "Nós temos todo o tempo do mundo\n",
      "Todos os dias antes de dormir\n",
      "Lembro e esqueço como foi o dia\n",
      "Sempre em frente, não temos tempo a perder\n",
      "\n",
      "Nosso suor sagrado é bem mais belo\n",
      "Que esse sangue amargo e tão sério\n",
      "E a fé que nos mantém erguidos\n",
      "Vem do amor que nos moveu\n",
      "\n",
      "Todos os dias quando acordo\n",
      "Não tenho mais o tempo que passou\n",
      "Mas tenho muito tempo\n",
      "Temos todo o tempo do mundo\n",
      "\n",
      "Todos os dias quando acordo\n",
      "Não tenho mais o tempo que passou\n",
      "Mas tenho muito tempo\n",
      "Temos todo o tempo do mundo\n",
      "\n"
     ]
    }
   ],
   "source": [
    "print(musica)"
   ]
  },
  {
   "cell_type": "code",
   "execution_count": null,
   "id": "50b86d07",
   "metadata": {},
   "outputs": [],
   "source": []
  },
  {
   "cell_type": "code",
   "execution_count": null,
   "id": "11b956c6",
   "metadata": {},
   "outputs": [],
   "source": []
  },
  {
   "cell_type": "code",
   "execution_count": null,
   "id": "727f2539",
   "metadata": {},
   "outputs": [],
   "source": []
  },
  {
   "cell_type": "code",
   "execution_count": null,
   "id": "b6bcfbb9",
   "metadata": {},
   "outputs": [],
   "source": []
  }
 ],
 "metadata": {
  "kernelspec": {
   "display_name": "Python 3 (ipykernel)",
   "language": "python",
   "name": "python3"
  },
  "language_info": {
   "codemirror_mode": {
    "name": "ipython",
    "version": 3
   },
   "file_extension": ".py",
   "mimetype": "text/x-python",
   "name": "python",
   "nbconvert_exporter": "python",
   "pygments_lexer": "ipython3",
   "version": "3.9.13"
  }
 },
 "nbformat": 4,
 "nbformat_minor": 5
}
