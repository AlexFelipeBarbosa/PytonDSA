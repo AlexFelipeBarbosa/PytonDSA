{
 "cells": [
  {
   "cell_type": "markdown",
   "id": "ab3de10b",
   "metadata": {},
   "source": [
    "# Alex Felipe Barbosa\n",
    "\n",
    "## Data Science Academy\n",
    "\n",
    "### Fundamentos da Linguagem Python para Analise de Dados e Data Science\n",
    "\n",
    "### Capitulo 6 - Tratamento de Erros e Exceções\n",
    "#### 29/02/2024"
   ]
  },
  {
   "cell_type": "code",
   "execution_count": 1,
   "id": "203a8bb7",
   "metadata": {},
   "outputs": [
    {
     "name": "stdout",
     "output_type": "stream",
     "text": [
      "Versão da Linguagem Python usada neste Jupyter Notebook:  3.9.13\n"
     ]
    }
   ],
   "source": [
    "# Versão da Linguagem Python\n",
    "from platform import python_version\n",
    "print(\"Versão da Linguagem Python usada neste Jupyter Notebook: \", python_version())"
   ]
  },
  {
   "cell_type": "markdown",
   "id": "667b7c25",
   "metadata": {},
   "source": [
    "# Erros e Exceções\n",
    "Sempre leia as mensagens de erro. Erros fazem parte do processo de aprendizagem e vão acompanhar você na sua jornada em programação, em qualquer linguagem."
   ]
  },
  {
   "cell_type": "code",
   "execution_count": 2,
   "id": "913ec49c",
   "metadata": {},
   "outputs": [],
   "source": [
    "# Criando uma função \n",
    "def numDiv (num1, num2):\n",
    "    resultado = num1 / num2\n",
    "    print(resultado)"
   ]
  },
  {
   "cell_type": "code",
   "execution_count": 3,
   "id": "6eb447d4",
   "metadata": {},
   "outputs": [
    {
     "name": "stdout",
     "output_type": "stream",
     "text": [
      "2.0\n"
     ]
    }
   ],
   "source": [
    "# Executando a função\n",
    "numDiv(4,2)"
   ]
  },
  {
   "cell_type": "code",
   "execution_count": 4,
   "id": "5bcc2dc5",
   "metadata": {},
   "outputs": [
    {
     "ename": "ZeroDivisionError",
     "evalue": "division by zero",
     "output_type": "error",
     "traceback": [
      "\u001b[1;31m---------------------------------------------------------------------------\u001b[0m",
      "\u001b[1;31mZeroDivisionError\u001b[0m                         Traceback (most recent call last)",
      "\u001b[1;32m~\\AppData\\Local\\Temp\\ipykernel_17520\\246611871.py\u001b[0m in \u001b[0;36m<module>\u001b[1;34m\u001b[0m\n\u001b[0;32m      1\u001b[0m \u001b[1;31m# Executando a função e dando erro de divisão por zero\u001b[0m\u001b[1;33m\u001b[0m\u001b[1;33m\u001b[0m\u001b[0m\n\u001b[1;32m----> 2\u001b[1;33m \u001b[0mnumDiv\u001b[0m\u001b[1;33m(\u001b[0m\u001b[1;36m4\u001b[0m\u001b[1;33m,\u001b[0m\u001b[1;36m0\u001b[0m\u001b[1;33m)\u001b[0m\u001b[1;33m\u001b[0m\u001b[1;33m\u001b[0m\u001b[0m\n\u001b[0m",
      "\u001b[1;32m~\\AppData\\Local\\Temp\\ipykernel_17520\\3570427807.py\u001b[0m in \u001b[0;36mnumDiv\u001b[1;34m(num1, num2)\u001b[0m\n\u001b[0;32m      1\u001b[0m \u001b[1;31m# Criando uma função\u001b[0m\u001b[1;33m\u001b[0m\u001b[1;33m\u001b[0m\u001b[0m\n\u001b[0;32m      2\u001b[0m \u001b[1;32mdef\u001b[0m \u001b[0mnumDiv\u001b[0m \u001b[1;33m(\u001b[0m\u001b[0mnum1\u001b[0m\u001b[1;33m,\u001b[0m \u001b[0mnum2\u001b[0m\u001b[1;33m)\u001b[0m\u001b[1;33m:\u001b[0m\u001b[1;33m\u001b[0m\u001b[1;33m\u001b[0m\u001b[0m\n\u001b[1;32m----> 3\u001b[1;33m     \u001b[0mresultado\u001b[0m \u001b[1;33m=\u001b[0m \u001b[0mnum1\u001b[0m \u001b[1;33m/\u001b[0m \u001b[0mnum2\u001b[0m\u001b[1;33m\u001b[0m\u001b[1;33m\u001b[0m\u001b[0m\n\u001b[0m\u001b[0;32m      4\u001b[0m     \u001b[0mprint\u001b[0m\u001b[1;33m(\u001b[0m\u001b[0mresultado\u001b[0m\u001b[1;33m)\u001b[0m\u001b[1;33m\u001b[0m\u001b[1;33m\u001b[0m\u001b[0m\n",
      "\u001b[1;31mZeroDivisionError\u001b[0m: division by zero"
     ]
    }
   ],
   "source": [
    "# Executando a função e dando erro de divisão por zero\n",
    "numDiv(4,0)"
   ]
  },
  {
   "cell_type": "markdown",
   "id": "ccb057a8",
   "metadata": {},
   "source": [
    "# Try, Except, Finaly"
   ]
  },
  {
   "cell_type": "code",
   "execution_count": null,
   "id": "07baf635",
   "metadata": {},
   "outputs": [],
   "source": [
    "# Erro \n",
    "8 + 's'"
   ]
  },
  {
   "cell_type": "code",
   "execution_count": null,
   "id": "28d06c34",
   "metadata": {},
   "outputs": [],
   "source": [
    "# Utilizando o try e except\n",
    "try:\n",
    "    8 + 's'\n",
    "except TypeError:\n",
    "    print('Operação não permitida!')"
   ]
  },
  {
   "cell_type": "code",
   "execution_count": null,
   "id": "6aa942d7",
   "metadata": {},
   "outputs": [],
   "source": [
    "# Utilizando try, except e else\n",
    "try: \n",
    "    f = open('arquivos/testandoerros.txt','w')\n",
    "    f.write('Gravando no arquivo')\n",
    "except IOError:\n",
    "    print(\"Erro: arquivo não encontrado ou não pode ser salvo.\")\n",
    "else: \n",
    "    print(\"Conteudo gravado com sucesso!\")\n",
    "    f.close()"
   ]
  },
  {
   "cell_type": "code",
   "execution_count": null,
   "id": "823209ee",
   "metadata": {},
   "outputs": [],
   "source": [
    "# Utilizando try, except e else\n",
    "try: \n",
    "    f = open('arquivos/testandoerros','r')\n",
    "except IOError: \n",
    "    print(\"Erro: Arquivo não encontrado ou não pode ser lido.\")\n",
    "else: \n",
    "    print(\"Conteudo gravado com sucesso!\")\n",
    "    f.close()"
   ]
  },
  {
   "cell_type": "code",
   "execution_count": null,
   "id": "f3d1289d",
   "metadata": {},
   "outputs": [],
   "source": [
    "# Utilizando try, except, else e finally\n",
    "try: \n",
    "    f = open('arquivos/testandoerros.txt','w')\n",
    "    f.write('Gravando no arquivo!')\n",
    "except IOError:\n",
    "    print(\"Erro: Arquivo não encontrado ou não pode ser salvo.\")\n",
    "else: \n",
    "    print(\"Conteúdo gravado com sucesso!\")\n",
    "    f.close()\n",
    "finally: \n",
    "    print(\"Comandos no bloco finally são sempre executados!\")"
   ]
  },
  {
   "cell_type": "markdown",
   "id": "b1bb5d21",
   "metadata": {},
   "source": [
    "- Cada possibilidade de erro deve ser tratada no seu programa.\n"
   ]
  },
  {
   "cell_type": "code",
   "execution_count": null,
   "id": "c33ce77c",
   "metadata": {},
   "outputs": [],
   "source": [
    "def askint():\n",
    "    try:\n",
    "        val = int((input(\"Digite um número: \")))\n",
    "    except:\n",
    "        print(\"você não digitou um número!\")\n",
    "    finally:\n",
    "        print(\"Obrigado!\")"
   ]
  },
  {
   "cell_type": "code",
   "execution_count": null,
   "id": "5e2e2e59",
   "metadata": {},
   "outputs": [],
   "source": [
    "askint()"
   ]
  },
  {
   "cell_type": "code",
   "execution_count": null,
   "id": "63dc182b",
   "metadata": {},
   "outputs": [],
   "source": [
    "def askint():\n",
    "    try:\n",
    "        val = int(input(\"Digite um número: \"))\n",
    "    except: \n",
    "        print(\"Você não digitou um número!\")\n",
    "        val = int(input(\"Tente novamente. Digite um número: \"))\n",
    "    finally:\n",
    "        print(\"Obrigado!\")\n",
    "    print(val)"
   ]
  },
  {
   "cell_type": "code",
   "execution_count": null,
   "id": "d7930229",
   "metadata": {},
   "outputs": [],
   "source": [
    "askint()"
   ]
  },
  {
   "cell_type": "code",
   "execution_count": 6,
   "id": "a63a8d62",
   "metadata": {},
   "outputs": [],
   "source": [
    "def askint():\n",
    "    while True: \n",
    "        try:\n",
    "            val = int(input(\"Digite um número: \"))\n",
    "        except: \n",
    "            print(\"Você não digitou um número!\")\n",
    "            continue\n",
    "        else: \n",
    "            print(\"Obrigado por digitar um número!\")\n",
    "            break\n",
    "        finally:\n",
    "            print(\"Fim da execução!\")\n",
    "        print(val)"
   ]
  },
  {
   "cell_type": "code",
   "execution_count": 7,
   "id": "44a4932b",
   "metadata": {},
   "outputs": [
    {
     "name": "stdout",
     "output_type": "stream",
     "text": [
      "Digite um número: \n",
      "Você não digitou um número!\n",
      "Fim da execução!\n",
      "Digite um número: \n",
      "Você não digitou um número!\n",
      "Fim da execução!\n",
      "Digite um número: \n",
      "Você não digitou um número!\n",
      "Fim da execução!\n",
      "Digite um número: \n",
      "Você não digitou um número!\n",
      "Fim da execução!\n",
      "Digite um número: 10\n",
      "Obrigado por digitar um número!\n",
      "Fim da execução!\n"
     ]
    }
   ],
   "source": [
    "askint()"
   ]
  },
  {
   "cell_type": "markdown",
   "id": "8455722e",
   "metadata": {},
   "source": [
    "Fim"
   ]
  }
 ],
 "metadata": {
  "kernelspec": {
   "display_name": "Python 3 (ipykernel)",
   "language": "python",
   "name": "python3"
  },
  "language_info": {
   "codemirror_mode": {
    "name": "ipython",
    "version": 3
   },
   "file_extension": ".py",
   "mimetype": "text/x-python",
   "name": "python",
   "nbconvert_exporter": "python",
   "pygments_lexer": "ipython3",
   "version": "3.9.13"
  }
 },
 "nbformat": 4,
 "nbformat_minor": 5
}
