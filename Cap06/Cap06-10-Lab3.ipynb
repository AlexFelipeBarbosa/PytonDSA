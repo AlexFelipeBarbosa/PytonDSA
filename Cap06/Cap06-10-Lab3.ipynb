{
 "cells": [
  {
   "cell_type": "markdown",
   "id": "bcdb252b",
   "metadata": {},
   "source": [
    "# Alex Felipe Barbosa\n",
    "\n",
    "## Data Science Academy\n",
    "\n",
    "### Fundamentos da Linguagem Python para Analise de Dados e Data Science\n",
    "\n",
    "### Capitulo 6 - Lab3 - Trabalhando com Expressões Regulares em Python com ChatGPT\n",
    "#### 29/02/2024"
   ]
  },
  {
   "cell_type": "code",
   "execution_count": 2,
   "id": "2349218e",
   "metadata": {},
   "outputs": [
    {
     "name": "stdout",
     "output_type": "stream",
     "text": [
      "Versão da Linguagem Python usada neste Jupyter Notebook:  3.9.13\n"
     ]
    }
   ],
   "source": [
    "# Versão da Linguagem Python\n",
    "from platform import python_version\n",
    "print(\"Versão da Linguagem Python usada neste Jupyter Notebook: \", python_version())"
   ]
  },
  {
   "cell_type": "markdown",
   "id": "8587fa7f",
   "metadata": {},
   "source": [
    "# Expressões Regulares\n",
    "Expressões regulares são padrões usados para combinar ou encontrar ocorrências de sequencias de caracteres em uma string. Em Python, expressões regulares são geralmente usadas para manipular strings e realizar tarefas como validação de entrada de dados, extração de informações de strings e substituição de texto"
   ]
  },
  {
   "cell_type": "code",
   "execution_count": 3,
   "id": "77a5f1d7",
   "metadata": {},
   "outputs": [],
   "source": [
    "import re"
   ]
  },
  {
   "cell_type": "code",
   "execution_count": 4,
   "id": "c709db2e",
   "metadata": {},
   "outputs": [],
   "source": [
    "texto = \"Meu e-mail é exemplo@gmail.com e você pode me contatar em outro_email@yahoo.com.br\""
   ]
  },
  {
   "cell_type": "code",
   "execution_count": 5,
   "id": "657be3c3",
   "metadata": {},
   "outputs": [],
   "source": [
    "# Expressão regular para contar quantas vezes o caracter @ aparece no texto\n",
    "resultado = len(re.findall(\"@\", texto))"
   ]
  },
  {
   "cell_type": "code",
   "execution_count": 7,
   "id": "c6c9962e",
   "metadata": {},
   "outputs": [
    {
     "name": "stdout",
     "output_type": "stream",
     "text": [
      "O caractere '@' apareceu 2 vezes no texto.\n"
     ]
    }
   ],
   "source": [
    "print(\"O caractere '@' apareceu\", resultado, \"vezes no texto.\")"
   ]
  },
  {
   "cell_type": "code",
   "execution_count": 8,
   "id": "c4125d65",
   "metadata": {},
   "outputs": [],
   "source": [
    "# Expressão regular para extrair a palavra que aparece após a palavra \"você\" em um texto\n",
    "resultado = re.findall(r'você (\\w+)',texto)"
   ]
  },
  {
   "cell_type": "code",
   "execution_count": 9,
   "id": "f18682fd",
   "metadata": {},
   "outputs": [
    {
     "name": "stdout",
     "output_type": "stream",
     "text": [
      "A palavra após 'você' é: pode\n"
     ]
    }
   ],
   "source": [
    "print(\"A palavra após 'você' é:\", resultado[0])"
   ]
  },
  {
   "cell_type": "markdown",
   "id": "4e1cb1b9",
   "metadata": {},
   "source": [
    "- Nota: O r antes da string representa a expressão regular em Python é usado para indicar que a string é uma string literal raw. Isso significa que as barras invertidas() não são interpretadas como caracteres de escape, mas são incluídas na expressão regular como parte do padrão "
   ]
  },
  {
   "cell_type": "code",
   "execution_count": 10,
   "id": "671d668f",
   "metadata": {},
   "outputs": [],
   "source": [
    "# Expressão regular para extrair endereços de e-mail de um string\n",
    "emails = re.findall(r'\\b[A-Za-z0-9._%+-]+@[A-Za-z0-9.-]+\\.[A-Z|a-z]{2,}\\b', texto)"
   ]
  },
  {
   "cell_type": "code",
   "execution_count": 11,
   "id": "1c45cb71",
   "metadata": {},
   "outputs": [
    {
     "name": "stdout",
     "output_type": "stream",
     "text": [
      "['exemplo@gmail.com', 'outro_email@yahoo.com.br']\n"
     ]
    }
   ],
   "source": [
    "print(emails)"
   ]
  },
  {
   "cell_type": "code",
   "execution_count": 12,
   "id": "9b1fa143",
   "metadata": {},
   "outputs": [],
   "source": [
    "text = \"O aluno estava incrivelmente perdido, mas encontrou a DSA e rapidamente começou a aprender.\""
   ]
  },
  {
   "cell_type": "code",
   "execution_count": 13,
   "id": "3a6f46bc",
   "metadata": {},
   "outputs": [
    {
     "name": "stdout",
     "output_type": "stream",
     "text": [
      "15-28: incrivelmente\n",
      "60-71: rapidamente\n"
     ]
    }
   ],
   "source": [
    "# Extraindo os advérbios da frase\n",
    "for m in re.finditer(r\"\\w+mente\\b\", text):\n",
    "    print('%02d-%02d: %s' % (m.start(), m.end(), m.group(0)))"
   ]
  },
  {
   "cell_type": "markdown",
   "id": "5ccb024c",
   "metadata": {},
   "source": [
    "# REGEX com ChatGPT\n",
    "- Música: Tempo Perdido\n",
    "- Legião Urbana"
   ]
  },
  {
   "cell_type": "code",
   "execution_count": 14,
   "id": "56c89591",
   "metadata": {},
   "outputs": [],
   "source": [
    "# Variavel do tipo String\n",
    "musica = '''\n",
    "Todos os dias quando acordo\n",
    "Não tenho mais o tempo que passou\n",
    "Mas tenho muito tempo\n",
    "Temos todo o tempo do mundo\n",
    "\n",
    "Todos os dias antes de dormir\n",
    "Lembro e esqueço como foi o dia\n",
    "Sempre em frente, não temos tempo a perder\n",
    "\n",
    "Nosso suor sagrado é bem mais belo\n",
    "Que esse sangue amargo e tão sério\n",
    "E a fé que nos mantém erguidos\n",
    "Vem do amor que nos moveu\n",
    "\n",
    "Todos os dias quando acordo\n",
    "Não tenho mais o tempo que passou\n",
    "Mas tenho muito tempo\n",
    "Temos todo o tempo do mundo\n",
    "\n",
    "Nós temos todo o tempo do mundo\n",
    "Todos os dias antes de dormir\n",
    "Lembro e esqueço como foi o dia\n",
    "Sempre em frente, não temos tempo a perder\n",
    "\n",
    "Nosso suor sagrado é bem mais belo\n",
    "Que esse sangue amargo e tão sério\n",
    "E a fé que nos mantém erguidos\n",
    "Vem do amor que nos moveu\n",
    "\n",
    "Todos os dias quando acordo\n",
    "Não tenho mais o tempo que passou\n",
    "Mas tenho muito tempo\n",
    "Temos todo o tempo do mundo\n",
    "\n",
    "Todos os dias quando acordo\n",
    "Não tenho mais o tempo que passou\n",
    "Mas tenho muito tempo\n",
    "Temos todo o tempo do mundo\n",
    "'''"
   ]
  },
  {
   "cell_type": "code",
   "execution_count": 15,
   "id": "8c5a7652",
   "metadata": {},
   "outputs": [
    {
     "name": "stdout",
     "output_type": "stream",
     "text": [
      "\n",
      "Todos os dias quando acordo\n",
      "Não tenho mais o tempo que passou\n",
      "Mas tenho muito tempo\n",
      "Temos todo o tempo do mundo\n",
      "\n",
      "Todos os dias antes de dormir\n",
      "Lembro e esqueço como foi o dia\n",
      "Sempre em frente, não temos tempo a perder\n",
      "\n",
      "Nosso suor sagrado é bem mais belo\n",
      "Que esse sangue amargo e tão sério\n",
      "E a fé que nos mantém erguidos\n",
      "Vem do amor que nos moveu\n",
      "\n",
      "Todos os dias quando acordo\n",
      "Não tenho mais o tempo que passou\n",
      "Mas tenho muito tempo\n",
      "Temos todo o tempo do mundo\n",
      "\n",
      "Nós temos todo o tempo do mundo\n",
      "Todos os dias antes de dormir\n",
      "Lembro e esqueço como foi o dia\n",
      "Sempre em frente, não temos tempo a perder\n",
      "\n",
      "Nosso suor sagrado é bem mais belo\n",
      "Que esse sangue amargo e tão sério\n",
      "E a fé que nos mantém erguidos\n",
      "Vem do amor que nos moveu\n",
      "\n",
      "Todos os dias quando acordo\n",
      "Não tenho mais o tempo que passou\n",
      "Mas tenho muito tempo\n",
      "Temos todo o tempo do mundo\n",
      "\n",
      "Todos os dias quando acordo\n",
      "Não tenho mais o tempo que passou\n",
      "Mas tenho muito tempo\n",
      "Temos todo o tempo do mundo\n",
      "\n"
     ]
    }
   ],
   "source": [
    "print(musica)"
   ]
  },
  {
   "cell_type": "code",
   "execution_count": null,
   "id": "82a671ff",
   "metadata": {},
   "outputs": [],
   "source": []
  },
  {
   "cell_type": "code",
   "execution_count": null,
   "id": "5d2a3fb0",
   "metadata": {},
   "outputs": [],
   "source": []
  },
  {
   "cell_type": "code",
   "execution_count": null,
   "id": "668ff729",
   "metadata": {},
   "outputs": [],
   "source": []
  },
  {
   "cell_type": "code",
   "execution_count": null,
   "id": "b33f307d",
   "metadata": {},
   "outputs": [],
   "source": []
  },
  {
   "cell_type": "code",
   "execution_count": null,
   "id": "780a9c64",
   "metadata": {},
   "outputs": [],
   "source": []
  },
  {
   "cell_type": "code",
   "execution_count": null,
   "id": "0757a490",
   "metadata": {},
   "outputs": [],
   "source": []
  },
  {
   "cell_type": "code",
   "execution_count": null,
   "id": "1311ec0d",
   "metadata": {},
   "outputs": [],
   "source": []
  },
  {
   "cell_type": "code",
   "execution_count": null,
   "id": "015e8fe7",
   "metadata": {},
   "outputs": [],
   "source": []
  }
 ],
 "metadata": {
  "kernelspec": {
   "display_name": "Python 3 (ipykernel)",
   "language": "python",
   "name": "python3"
  },
  "language_info": {
   "codemirror_mode": {
    "name": "ipython",
    "version": 3
   },
   "file_extension": ".py",
   "mimetype": "text/x-python",
   "name": "python",
   "nbconvert_exporter": "python",
   "pygments_lexer": "ipython3",
   "version": "3.9.13"
  }
 },
 "nbformat": 4,
 "nbformat_minor": 5
}
