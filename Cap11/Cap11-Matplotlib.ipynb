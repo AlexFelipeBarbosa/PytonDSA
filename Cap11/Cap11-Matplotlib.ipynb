{
 "cells": [
  {
   "cell_type": "markdown",
   "id": "9d5319f3",
   "metadata": {},
   "source": [
    "# Alex Felipe Barbosa\n",
    "\n",
    "## Data Science Academy\n",
    "\n",
    "### Fundamentos da Linguagem Python para Analise de Dados e Data Science\n",
    "\n",
    "### Capitulo 11 - Visualização de Dados com Matplotlib\n",
    "\n",
    "#### 20/03/2024"
   ]
  },
  {
   "cell_type": "code",
   "execution_count": 1,
   "id": "6fc2f519",
   "metadata": {},
   "outputs": [
    {
     "name": "stdout",
     "output_type": "stream",
     "text": [
      "Versão da Linguagem Python usada neste Jupyter Notebook:  3.9.13\n"
     ]
    }
   ],
   "source": [
    "# Versão da Linguagem Python\n",
    "from platform import python_version\n",
    "print(\"Versão da Linguagem Python usada neste Jupyter Notebook: \", python_version())"
   ]
  },
  {
   "cell_type": "markdown",
   "id": "778063f1",
   "metadata": {},
   "source": [
    "# Matplotlib\n",
    "https://matplotlib.org/"
   ]
  },
  {
   "cell_type": "code",
   "execution_count": 8,
   "id": "a3d3dad4",
   "metadata": {},
   "outputs": [
    {
     "name": "stderr",
     "output_type": "stream",
     "text": [
      "WARNING: Ignoring invalid distribution -atplotlib (c:\\users\\alexf\\anaconda3\\lib\\site-packages)\n",
      "WARNING: Ignoring invalid distribution -atplotlib (c:\\users\\alexf\\anaconda3\\lib\\site-packages)\n"
     ]
    }
   ],
   "source": [
    "# Instala a versão exata do pacote\n",
    "# ==3.7.1\n",
    "!pip install -q matplotlib==3.7.1"
   ]
  },
  {
   "cell_type": "code",
   "execution_count": 9,
   "id": "750642dd",
   "metadata": {},
   "outputs": [],
   "source": [
    "import matplotlib as mpl"
   ]
  },
  {
   "cell_type": "code",
   "execution_count": 10,
   "id": "d4cebab5",
   "metadata": {},
   "outputs": [
    {
     "data": {
      "text/plain": [
       "ModuleSpec(name='matplotlib', loader=<_frozen_importlib_external.SourceFileLoader object at 0x0000022535E00730>, origin='C:\\\\Users\\\\alexf\\\\anaconda3\\\\lib\\\\site-packages\\\\matplotlib\\\\__init__.py', submodule_search_locations=['C:\\\\Users\\\\alexf\\\\anaconda3\\\\lib\\\\site-packages\\\\matplotlib'])"
      ]
     },
     "execution_count": 10,
     "metadata": {},
     "output_type": "execute_result"
    }
   ],
   "source": [
    "mpl.__spec__"
   ]
  },
  {
   "cell_type": "markdown",
   "id": "48c5bcca",
   "metadata": {},
   "source": [
    "# Construindo Plots \n",
    "Plot é a representação gráfica de dados em uma figura. É um grafico que mostra a relação entre duas ou mais variaveis."
   ]
  },
  {
   "cell_type": "code",
   "execution_count": null,
   "id": "414c1e89",
   "metadata": {},
   "outputs": [],
   "source": []
  },
  {
   "cell_type": "code",
   "execution_count": null,
   "id": "cb6d980a",
   "metadata": {},
   "outputs": [],
   "source": []
  },
  {
   "cell_type": "code",
   "execution_count": null,
   "id": "09b3e5a7",
   "metadata": {},
   "outputs": [],
   "source": []
  },
  {
   "cell_type": "code",
   "execution_count": null,
   "id": "6ad1ed11",
   "metadata": {},
   "outputs": [],
   "source": []
  },
  {
   "cell_type": "code",
   "execution_count": null,
   "id": "fe5b4b8c",
   "metadata": {},
   "outputs": [],
   "source": []
  },
  {
   "cell_type": "code",
   "execution_count": null,
   "id": "94f0b39a",
   "metadata": {},
   "outputs": [],
   "source": []
  }
 ],
 "metadata": {
  "kernelspec": {
   "display_name": "Python 3 (ipykernel)",
   "language": "python",
   "name": "python3"
  },
  "language_info": {
   "codemirror_mode": {
    "name": "ipython",
    "version": 3
   },
   "file_extension": ".py",
   "mimetype": "text/x-python",
   "name": "python",
   "nbconvert_exporter": "python",
   "pygments_lexer": "ipython3",
   "version": "3.9.13"
  }
 },
 "nbformat": 4,
 "nbformat_minor": 5
}
