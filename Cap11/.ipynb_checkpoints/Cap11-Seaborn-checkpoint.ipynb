{
 "cells": [
  {
   "cell_type": "markdown",
   "id": "72668394",
   "metadata": {},
   "source": [
    "# Alex Felipe Barbosa\n",
    "\n",
    "## Data Science Academy\n",
    "\n",
    "### Fundamentos da Linguagem Python para Analise de Dados e Data Science\n",
    "\n",
    "### Capitulo 11 - Visualização de Dados com Seaborn\n",
    "\n",
    "#### 21/03/2024"
   ]
  },
  {
   "cell_type": "code",
   "execution_count": 1,
   "id": "139f0861",
   "metadata": {},
   "outputs": [
    {
     "name": "stdout",
     "output_type": "stream",
     "text": [
      "Versão da Linguagem Python usada neste Jupyter Notebook:  3.9.13\n"
     ]
    }
   ],
   "source": [
    "# Versão da Linguagem Python\n",
    "from platform import python_version\n",
    "print(\"Versão da Linguagem Python usada neste Jupyter Notebook: \", python_version())"
   ]
  },
  {
   "cell_type": "markdown",
   "id": "bcf0f646",
   "metadata": {},
   "source": [
    "# Statistical Data Visualization com Seaborn\n",
    "https://seaborn.pydata.org/"
   ]
  },
  {
   "cell_type": "code",
   "execution_count": 2,
   "id": "260b860f",
   "metadata": {},
   "outputs": [
    {
     "name": "stderr",
     "output_type": "stream",
     "text": [
      "WARNING: Ignoring invalid distribution -atplotlib (c:\\users\\alexf\\anaconda3\\lib\\site-packages)\n",
      "WARNING: Ignoring invalid distribution -atplotlib (c:\\users\\alexf\\anaconda3\\lib\\site-packages)\n"
     ]
    }
   ],
   "source": [
    "!pip install -q seaborn==0.12.2"
   ]
  },
  {
   "cell_type": "code",
   "execution_count": 3,
   "id": "ba360fb9",
   "metadata": {},
   "outputs": [
    {
     "name": "stdout",
     "output_type": "stream",
     "text": [
      "Collecting package metadata (current_repodata.json): ...working... done\n",
      "Solving environment: ...working... failed with initial frozen solve. Retrying with flexible solve.\n",
      "Solving environment: ...working... failed with repodata from current_repodata.json, will retry with next repodata source.\n",
      "Collecting package metadata (repodata.json): ...working... done\n",
      "Solving environment: ...working... done\n",
      "\n",
      "## Package Plan ##\n",
      "\n",
      "  environment location: C:\\Users\\alexf\\anaconda3\n",
      "\n",
      "  added / updated specs:\n",
      "    - seaborn\n",
      "\n",
      "\n",
      "The following NEW packages will be INSTALLED:\n",
      "\n",
      "  _anaconda_depends  pkgs/main/win-64::_anaconda_depends-2022.10-py39_2 None\n",
      "  joblib             pkgs/main/win-64::joblib-1.2.0-py39haa95532_0 None\n",
      "  matplotlib-base    pkgs/main/win-64::matplotlib-base-3.5.2-py39hd77b12b_0 None\n",
      "  numpy-base         pkgs/main/win-64::numpy-base-1.21.5-py39hca35cd5_3 None\n",
      "  pandas             pkgs/main/win-64::pandas-1.4.4-py39hd77b12b_0 None\n",
      "  pip                pkgs/main/win-64::pip-23.3.1-py39haa95532_0 None\n",
      "  scikit-learn       pkgs/main/win-64::scikit-learn-1.0.2-py39hf11a4ad_1 None\n",
      "  setuptools         pkgs/main/win-64::setuptools-68.2.2-py39haa95532_0 None\n",
      "\n",
      "The following packages will be UPDATED:\n",
      "\n",
      "  ca-certificates                     2022.07.19-haa95532_0 --> 2024.3.11-haa95532_0 None\n",
      "  certifi                          2022.9.14-py39haa95532_0 --> 2024.2.2-py39haa95532_0 None\n",
      "  openssl                                 1.1.1q-h2bbff1b_0 --> 1.1.1w-h2bbff1b_0 None\n",
      "\n",
      "The following packages will be DOWNGRADED:\n",
      "\n",
      "  anaconda                                   2022.10-py39_0 --> custom-py39_2 None\n",
      "\n",
      "\n",
      "Preparing transaction: ...working... done\n",
      "Verifying transaction: ...working... failed\n",
      "\n",
      "Note: you may need to restart the kernel to use updated packages.\n"
     ]
    },
    {
     "name": "stderr",
     "output_type": "stream",
     "text": [
      "\n",
      "The environment is inconsistent, please check the package plan carefully\n",
      "The following packages are causing the inconsistency:\n",
      "\n",
      "  - defaults/win-64::anaconda==2022.10=py39_0\n",
      "  - defaults/win-64::anaconda-client==1.11.0=py39haa95532_0\n",
      "  - defaults/win-64::anaconda-navigator==2.3.1=py39haa95532_0\n",
      "  - defaults/win-64::anaconda-project==0.11.1=py39haa95532_0\n",
      "  - defaults/win-64::astropy==5.1=py39h080aedc_0\n",
      "  - defaults/noarch::backports.functools_lru_cache==1.6.4=pyhd3eb1b0_0\n",
      "  - defaults/win-64::bcrypt==3.2.0=py39h2bbff1b_1\n",
      "  - defaults/win-64::bkcharts==0.2=py39haa95532_1\n",
      "  - defaults/win-64::bokeh==2.4.3=py39haa95532_0\n",
      "  - defaults/win-64::bottleneck==1.3.5=py39h080aedc_0\n",
      "  - defaults/win-64::clyent==1.2.2=py39haa95532_1\n",
      "  - defaults/win-64::conda==22.9.0=py39haa95532_0\n",
      "  - defaults/win-64::conda-build==3.22.0=py39haa95532_0\n",
      "  - defaults/noarch::conda-pack==0.6.0=pyhd3eb1b0_0\n",
      "  - defaults/win-64::conda-repo-cli==1.0.20=py39haa95532_0\n",
      "  - defaults/noarch::conda-token==0.4.0=pyhd3eb1b0_0\n",
      "  - defaults/noarch::conda-verify==3.4.2=py_1\n",
      "  - defaults/noarch::cookiecutter==1.7.3=pyhd3eb1b0_0\n",
      "  - defaults/win-64::daal4py==2021.6.0=py39h757b272_1\n",
      "  - defaults/win-64::dask==2022.7.0=py39haa95532_0\n",
      "  - defaults/win-64::datashader==0.14.1=py39haa95532_0\n",
      "  - defaults/win-64::datashape==0.5.4=py39haa95532_1\n",
      "  - defaults/win-64::distributed==2022.7.0=py39haa95532_0\n",
      "  - defaults/noarch::flask==1.1.2=pyhd3eb1b0_0\n",
      "  - defaults/win-64::gensim==4.1.2=py39hd77b12b_0\n",
      "  - defaults/win-64::h5py==3.7.0=py39h3de5c98_0\n",
      "  - defaults/win-64::holoviews==1.15.0=py39haa95532_0\n",
      "  - defaults/win-64::hvplot==0.8.0=py39haa95532_0\n",
      "  - defaults/win-64::imagecodecs==2021.8.26=py39hc0a7faf_1\n",
      "  - defaults/win-64::imageio==2.19.3=py39haa95532_0\n",
      "  - defaults/noarch::intake==0.6.5=pyhd3eb1b0_0\n",
      "  - defaults/win-64::ipykernel==6.15.2=py39haa95532_0\n",
      "  - defaults/win-64::ipython==7.31.1=py39haa95532_1\n",
      "  - defaults/noarch::ipywidgets==7.6.5=pyhd3eb1b0_1\n",
      "  - defaults/noarch::jinja2==2.11.3=pyhd3eb1b0_0\n",
      "  - defaults/noarch::jinja2-time==0.2.0=pyhd3eb1b0_3\n",
      "  - defaults/win-64::jupyter==1.0.0=py39haa95532_8\n",
      "  - defaults/win-64::jupyterlab==3.4.4=py39haa95532_0\n",
      "  - defaults/noarch::jupyterlab_server==2.10.3=pyhd3eb1b0_1\n",
      "  - defaults/noarch::jupyter_console==6.4.3=pyhd3eb1b0_0\n",
      "  - defaults/win-64::jupyter_server==1.18.1=py39haa95532_0\n",
      "  - defaults/win-64::matplotlib==3.5.2=py39haa95532_0\n",
      "  - defaults/win-64::mkl_fft==1.3.1=py39h277e83a_0\n",
      "  - defaults/win-64::mkl_random==1.2.2=py39hf11a4ad_0\n",
      "  - defaults/win-64::navigator-updater==0.3.0=py39haa95532_0\n",
      "  - defaults/noarch::nbclassic==0.3.5=pyhd3eb1b0_0\n",
      "  - defaults/win-64::nbconvert==6.4.4=py39haa95532_0\n",
      "  - defaults/noarch::nltk==3.7=pyhd3eb1b0_0\n",
      "  - defaults/win-64::notebook==6.4.12=py39haa95532_0\n",
      "  - defaults/win-64::numba==0.55.1=py39hf11a4ad_0\n",
      "  - defaults/win-64::numexpr==2.8.3=py39hb80d3ca_0\n",
      "  - defaults/win-64::numpy==1.21.5=py39h7a0a035_3\n",
      "  - defaults/win-64::numpydoc==1.4.0=py39haa95532_0\n",
      "  - defaults/win-64::panel==0.13.1=py39haa95532_0\n",
      "  - defaults/noarch::paramiko==2.8.1=pyhd3eb1b0_0\n",
      "  - defaults/win-64::patsy==0.5.2=py39haa95532_1\n",
      "  - defaults/win-64::pyerfa==2.0.0=py39h2bbff1b_0\n",
      "  - defaults/noarch::pyls-spyder==0.4.0=pyhd3eb1b0_0\n",
      "  - defaults/win-64::pytables==3.6.1=py39h56d22b6_1\n",
      "  - defaults/noarch::python-lsp-black==1.0.0=pyhd3eb1b0_0\n",
      "  - defaults/noarch::python-lsp-server==1.3.3=pyhd3eb1b0_0\n",
      "  - defaults/win-64::pywavelets==1.3.0=py39h2bbff1b_0\n",
      "  - defaults/noarch::qtconsole==5.2.2=pyhd3eb1b0_0\n",
      "  - defaults/win-64::scikit-image==0.19.2=py39hf11a4ad_0\n",
      "  - defaults/win-64::scikit-learn-intelex==2021.6.0=py39haa95532_0\n",
      "  - defaults/win-64::scipy==1.9.1=py39he11b74f_0\n",
      "  - defaults/win-64::scrapy==2.6.2=py39haa95532_0\n",
      "  - defaults/noarch::seaborn==0.11.2=pyhd3eb1b0_0\n",
      "  - defaults/win-64::sphinx==5.0.2=py39haa95532_0\n",
      "  - defaults/win-64::spyder==5.2.2=py39haa95532_1\n",
      "  - defaults/win-64::spyder-kernels==2.2.1=py39haa95532_0\n",
      "  - defaults/win-64::statsmodels==0.13.2=py39h2bbff1b_0\n",
      "  - defaults/noarch::tifffile==2021.7.2=pyhd3eb1b0_2\n",
      "  - defaults/win-64::twisted==22.2.0=py39h2bbff1b_1\n",
      "  - defaults/win-64::widgetsnbextension==3.5.2=py39haa95532_0\n",
      "  - defaults/noarch::xarray==0.20.1=pyhd3eb1b0_1\n",
      "  - defaults/win-64::zope.interface==5.4.0=py39h2bbff1b_0\n",
      "  - defaults/win-64::_ipyw_jlab_nb_ext_conf==0.1.0=py39haa95532_0\n",
      "\n",
      "The environment is inconsistent, please check the package plan carefully\n",
      "The following packages are causing the inconsistency:\n",
      "\n",
      "  - defaults/win-64::anaconda==2022.10=py39_0\n",
      "  - defaults/win-64::anaconda-client==1.11.0=py39haa95532_0\n",
      "  - defaults/win-64::anaconda-navigator==2.3.1=py39haa95532_0\n",
      "  - defaults/win-64::anaconda-project==0.11.1=py39haa95532_0\n",
      "  - defaults/win-64::astropy==5.1=py39h080aedc_0\n",
      "  - defaults/noarch::backports.functools_lru_cache==1.6.4=pyhd3eb1b0_0\n",
      "  - defaults/win-64::bcrypt==3.2.0=py39h2bbff1b_1\n",
      "  - defaults/win-64::bkcharts==0.2=py39haa95532_1\n",
      "  - defaults/win-64::bokeh==2.4.3=py39haa95532_0\n",
      "  - defaults/win-64::bottleneck==1.3.5=py39h080aedc_0\n",
      "  - defaults/win-64::clyent==1.2.2=py39haa95532_1\n",
      "  - defaults/win-64::conda==22.9.0=py39haa95532_0\n",
      "  - defaults/win-64::conda-build==3.22.0=py39haa95532_0\n",
      "  - defaults/noarch::conda-pack==0.6.0=pyhd3eb1b0_0\n",
      "  - defaults/win-64::conda-repo-cli==1.0.20=py39haa95532_0\n",
      "  - defaults/noarch::conda-token==0.4.0=pyhd3eb1b0_0\n",
      "  - defaults/noarch::conda-verify==3.4.2=py_1\n",
      "  - defaults/noarch::cookiecutter==1.7.3=pyhd3eb1b0_0\n",
      "  - defaults/win-64::daal4py==2021.6.0=py39h757b272_1\n",
      "  - defaults/win-64::dask==2022.7.0=py39haa95532_0\n",
      "  - defaults/win-64::datashader==0.14.1=py39haa95532_0\n",
      "  - defaults/win-64::datashape==0.5.4=py39haa95532_1\n",
      "  - defaults/win-64::distributed==2022.7.0=py39haa95532_0\n",
      "  - defaults/noarch::flask==1.1.2=pyhd3eb1b0_0\n",
      "  - defaults/win-64::gensim==4.1.2=py39hd77b12b_0\n",
      "  - defaults/win-64::h5py==3.7.0=py39h3de5c98_0\n",
      "  - defaults/win-64::holoviews==1.15.0=py39haa95532_0\n",
      "  - defaults/win-64::hvplot==0.8.0=py39haa95532_0\n",
      "  - defaults/win-64::imagecodecs==2021.8.26=py39hc0a7faf_1\n",
      "  - defaults/win-64::imageio==2.19.3=py39haa95532_0\n",
      "  - defaults/noarch::intake==0.6.5=pyhd3eb1b0_0\n",
      "  - defaults/win-64::ipykernel==6.15.2=py39haa95532_0\n",
      "  - defaults/win-64::ipython==7.31.1=py39haa95532_1\n",
      "  - defaults/noarch::ipywidgets==7.6.5=pyhd3eb1b0_1\n",
      "  - defaults/noarch::jinja2==2.11.3=pyhd3eb1b0_0\n",
      "  - defaults/noarch::jinja2-time==0.2.0=pyhd3eb1b0_3\n",
      "  - defaults/win-64::jupyter==1.0.0=py39haa95532_8\n",
      "  - defaults/win-64::jupyterlab==3.4.4=py39haa95532_0\n",
      "  - defaults/noarch::jupyterlab_server==2.10.3=pyhd3eb1b0_1\n",
      "  - defaults/noarch::jupyter_console==6.4.3=pyhd3eb1b0_0\n",
      "  - defaults/win-64::jupyter_server==1.18.1=py39haa95532_0\n",
      "  - defaults/win-64::matplotlib==3.5.2=py39haa95532_0\n",
      "  - defaults/win-64::mkl_fft==1.3.1=py39h277e83a_0\n",
      "  - defaults/win-64::mkl_random==1.2.2=py39hf11a4ad_0\n",
      "  - defaults/win-64::navigator-updater==0.3.0=py39haa95532_0\n",
      "  - defaults/noarch::nbclassic==0.3.5=pyhd3eb1b0_0\n",
      "  - defaults/win-64::nbconvert==6.4.4=py39haa95532_0\n",
      "  - defaults/noarch::nltk==3.7=pyhd3eb1b0_0\n",
      "  - defaults/win-64::notebook==6.4.12=py39haa95532_0\n",
      "  - defaults/win-64::numba==0.55.1=py39hf11a4ad_0\n",
      "  - defaults/win-64::numexpr==2.8.3=py39hb80d3ca_0\n",
      "  - defaults/win-64::numpy==1.21.5=py39h7a0a035_3\n",
      "  - defaults/win-64::numpydoc==1.4.0=py39haa95532_0\n",
      "  - defaults/win-64::panel==0.13.1=py39haa95532_0\n",
      "  - defaults/noarch::paramiko==2.8.1=pyhd3eb1b0_0\n",
      "  - defaults/win-64::patsy==0.5.2=py39haa95532_1\n",
      "  - defaults/win-64::pyerfa==2.0.0=py39h2bbff1b_0\n",
      "  - defaults/noarch::pyls-spyder==0.4.0=pyhd3eb1b0_0\n",
      "  - defaults/win-64::pytables==3.6.1=py39h56d22b6_1\n",
      "  - defaults/noarch::python-lsp-black==1.0.0=pyhd3eb1b0_0\n",
      "  - defaults/noarch::python-lsp-server==1.3.3=pyhd3eb1b0_0\n",
      "  - defaults/win-64::pywavelets==1.3.0=py39h2bbff1b_0\n",
      "  - defaults/noarch::qtconsole==5.2.2=pyhd3eb1b0_0\n",
      "  - defaults/win-64::scikit-image==0.19.2=py39hf11a4ad_0\n",
      "  - defaults/win-64::scikit-learn-intelex==2021.6.0=py39haa95532_0\n",
      "  - defaults/win-64::scipy==1.9.1=py39he11b74f_0\n",
      "  - defaults/win-64::scrapy==2.6.2=py39haa95532_0\n",
      "  - defaults/noarch::seaborn==0.11.2=pyhd3eb1b0_0\n",
      "  - defaults/win-64::sphinx==5.0.2=py39haa95532_0\n",
      "  - defaults/win-64::spyder==5.2.2=py39haa95532_1\n",
      "  - defaults/win-64::spyder-kernels==2.2.1=py39haa95532_0\n",
      "  - defaults/win-64::statsmodels==0.13.2=py39h2bbff1b_0\n",
      "  - defaults/noarch::tifffile==2021.7.2=pyhd3eb1b0_2\n",
      "  - defaults/win-64::twisted==22.2.0=py39h2bbff1b_1\n",
      "  - defaults/win-64::widgetsnbextension==3.5.2=py39haa95532_0\n",
      "  - defaults/noarch::xarray==0.20.1=pyhd3eb1b0_1\n",
      "  - defaults/win-64::zope.interface==5.4.0=py39h2bbff1b_0\n",
      "  - defaults/win-64::_ipyw_jlab_nb_ext_conf==0.1.0=py39haa95532_0\n",
      "\n",
      "\n",
      "==> WARNING: A newer version of conda exists. <==\n",
      "  current version: 22.9.0\n",
      "  latest version: 24.3.0\n",
      "\n",
      "Please update conda by running\n",
      "\n",
      "    $ conda update -n base -c defaults conda\n",
      "\n",
      "\n",
      "\n",
      "RemoveError: 'setuptools' is a dependency of conda and cannot be removed from\n",
      "conda's operating environment.\n",
      "\n"
     ]
    }
   ],
   "source": [
    "conda install seaborn"
   ]
  },
  {
   "cell_type": "code",
   "execution_count": 4,
   "id": "81772768",
   "metadata": {},
   "outputs": [],
   "source": [
    "# Imports \n",
    "import random \n",
    "import numpy as np\n",
    "import pandas as pd\n",
    "import matplotlib as mat\n",
    "import matplotlib.pyplot as plt\n",
    "import warnings\n",
    "warnings.filterwarnings(\"ignore\")\n",
    "%matplotlib inline"
   ]
  },
  {
   "cell_type": "code",
   "execution_count": 5,
   "id": "816a7cfc",
   "metadata": {},
   "outputs": [
    {
     "data": {
      "text/plain": [
       "'1.24.4'"
      ]
     },
     "execution_count": 5,
     "metadata": {},
     "output_type": "execute_result"
    }
   ],
   "source": [
    "np.__version__"
   ]
  },
  {
   "cell_type": "code",
   "execution_count": 6,
   "id": "db60751d",
   "metadata": {},
   "outputs": [
    {
     "data": {
      "text/plain": [
       "'1.5.3'"
      ]
     },
     "execution_count": 6,
     "metadata": {},
     "output_type": "execute_result"
    }
   ],
   "source": [
    "pd.__version__"
   ]
  },
  {
   "cell_type": "code",
   "execution_count": 7,
   "id": "f6d1e651",
   "metadata": {},
   "outputs": [
    {
     "data": {
      "text/plain": [
       "matplotlib._VersionInfo"
      ]
     },
     "execution_count": 7,
     "metadata": {},
     "output_type": "execute_result"
    }
   ],
   "source": [
    "mat._VersionInfo"
   ]
  },
  {
   "cell_type": "code",
   "execution_count": 8,
   "id": "dbf3c86c",
   "metadata": {},
   "outputs": [
    {
     "data": {
      "text/plain": [
       "'0.12.2'"
      ]
     },
     "execution_count": 8,
     "metadata": {},
     "output_type": "execute_result"
    }
   ],
   "source": [
    "import seaborn as sea\n",
    "sea.__version__"
   ]
  },
  {
   "cell_type": "markdown",
   "id": "9dbbb214",
   "metadata": {},
   "source": [
    "# Criando graficos com Seaborn"
   ]
  },
  {
   "cell_type": "code",
   "execution_count": 9,
   "id": "a7255967",
   "metadata": {},
   "outputs": [],
   "source": [
    "# Carregando um dos datasets que vem com o Seaborn\n",
    "dados = sea.load_dataset(\"tips\")"
   ]
  },
  {
   "cell_type": "code",
   "execution_count": 10,
   "id": "027e7998",
   "metadata": {},
   "outputs": [
    {
     "data": {
      "text/html": [
       "<div>\n",
       "<style scoped>\n",
       "    .dataframe tbody tr th:only-of-type {\n",
       "        vertical-align: middle;\n",
       "    }\n",
       "\n",
       "    .dataframe tbody tr th {\n",
       "        vertical-align: top;\n",
       "    }\n",
       "\n",
       "    .dataframe thead th {\n",
       "        text-align: right;\n",
       "    }\n",
       "</style>\n",
       "<table border=\"1\" class=\"dataframe\">\n",
       "  <thead>\n",
       "    <tr style=\"text-align: right;\">\n",
       "      <th></th>\n",
       "      <th>total_bill</th>\n",
       "      <th>tip</th>\n",
       "      <th>sex</th>\n",
       "      <th>smoker</th>\n",
       "      <th>day</th>\n",
       "      <th>time</th>\n",
       "      <th>size</th>\n",
       "    </tr>\n",
       "  </thead>\n",
       "  <tbody>\n",
       "    <tr>\n",
       "      <th>0</th>\n",
       "      <td>16.99</td>\n",
       "      <td>1.01</td>\n",
       "      <td>Female</td>\n",
       "      <td>No</td>\n",
       "      <td>Sun</td>\n",
       "      <td>Dinner</td>\n",
       "      <td>2</td>\n",
       "    </tr>\n",
       "    <tr>\n",
       "      <th>1</th>\n",
       "      <td>10.34</td>\n",
       "      <td>1.66</td>\n",
       "      <td>Male</td>\n",
       "      <td>No</td>\n",
       "      <td>Sun</td>\n",
       "      <td>Dinner</td>\n",
       "      <td>3</td>\n",
       "    </tr>\n",
       "    <tr>\n",
       "      <th>2</th>\n",
       "      <td>21.01</td>\n",
       "      <td>3.50</td>\n",
       "      <td>Male</td>\n",
       "      <td>No</td>\n",
       "      <td>Sun</td>\n",
       "      <td>Dinner</td>\n",
       "      <td>3</td>\n",
       "    </tr>\n",
       "    <tr>\n",
       "      <th>3</th>\n",
       "      <td>23.68</td>\n",
       "      <td>3.31</td>\n",
       "      <td>Male</td>\n",
       "      <td>No</td>\n",
       "      <td>Sun</td>\n",
       "      <td>Dinner</td>\n",
       "      <td>2</td>\n",
       "    </tr>\n",
       "    <tr>\n",
       "      <th>4</th>\n",
       "      <td>24.59</td>\n",
       "      <td>3.61</td>\n",
       "      <td>Female</td>\n",
       "      <td>No</td>\n",
       "      <td>Sun</td>\n",
       "      <td>Dinner</td>\n",
       "      <td>4</td>\n",
       "    </tr>\n",
       "  </tbody>\n",
       "</table>\n",
       "</div>"
      ],
      "text/plain": [
       "   total_bill   tip     sex smoker  day    time  size\n",
       "0       16.99  1.01  Female     No  Sun  Dinner     2\n",
       "1       10.34  1.66    Male     No  Sun  Dinner     3\n",
       "2       21.01  3.50    Male     No  Sun  Dinner     3\n",
       "3       23.68  3.31    Male     No  Sun  Dinner     2\n",
       "4       24.59  3.61  Female     No  Sun  Dinner     4"
      ]
     },
     "execution_count": 10,
     "metadata": {},
     "output_type": "execute_result"
    }
   ],
   "source": [
    "dados.head()"
   ]
  },
  {
   "cell_type": "code",
   "execution_count": 12,
   "id": "6416a6a5",
   "metadata": {},
   "outputs": [
    {
     "data": {
      "text/plain": [
       "<seaborn.axisgrid.JointGrid at 0x1afe0c6a520>"
      ]
     },
     "execution_count": 12,
     "metadata": {},
     "output_type": "execute_result"
    },
    {
     "data": {
      "image/png": "[encoded data removed]",
      "text/plain": [
       "<Figure size 600x600 with 3 Axes>"
      ]
     },
     "metadata": {},
     "output_type": "display_data"
    }
   ],
   "source": [
    "# O metodo joinplot cria plot de 2 variaveis com graficos bivariados e univariados\n",
    "sea.jointplot(data = dados, x = \"total_bill\", y = \"tip\", kind = \"reg\")"
   ]
  },
  {
   "cell_type": "code",
   "execution_count": null,
   "id": "b36c3a43",
   "metadata": {},
   "outputs": [],
   "source": []
  },
  {
   "cell_type": "code",
   "execution_count": null,
   "id": "af9c434f",
   "metadata": {},
   "outputs": [],
   "source": []
  },
  {
   "cell_type": "code",
   "execution_count": null,
   "id": "4d71bfab",
   "metadata": {},
   "outputs": [],
   "source": []
  },
  {
   "cell_type": "code",
   "execution_count": null,
   "id": "b80f5037",
   "metadata": {},
   "outputs": [],
   "source": []
  },
  {
   "cell_type": "code",
   "execution_count": null,
   "id": "db958d60",
   "metadata": {},
   "outputs": [],
   "source": []
  },
  {
   "cell_type": "code",
   "execution_count": null,
   "id": "3fc66f6e",
   "metadata": {},
   "outputs": [],
   "source": []
  },
  {
   "cell_type": "code",
   "execution_count": null,
   "id": "77ccdae8",
   "metadata": {},
   "outputs": [],
   "source": []
  },
  {
   "cell_type": "code",
   "execution_count": null,
   "id": "9879e103",
   "metadata": {},
   "outputs": [],
   "source": []
  }
 ],
 "metadata": {
  "kernelspec": {
   "display_name": "Python 3 (ipykernel)",
   "language": "python",
   "name": "python3"
  },
  "language_info": {
   "codemirror_mode": {
    "name": "ipython",
    "version": 3
   },
   "file_extension": ".py",
   "mimetype": "text/x-python",
   "name": "python",
   "nbconvert_exporter": "python",
   "pygments_lexer": "ipython3",
   "version": "3.9.13"
  }
 },
 "nbformat": 4,
 "nbformat_minor": 5
}
