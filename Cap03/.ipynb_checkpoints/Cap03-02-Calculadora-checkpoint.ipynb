{
 "cells": [
  {
   "cell_type": "markdown",
   "id": "f7743dad",
   "metadata": {},
   "source": [
    "Alex Felipe Barbosa - 06/02/2024\n",
    "\n",
    "Data Science Academy\n",
    "Fundamentos de Linguagem Python para Analise de Dados e Data Science\n",
    "\n",
    "Capitulo 3 - Introdução a Logica de Programação\n"
   ]
  },
  {
   "cell_type": "markdown",
   "id": "d2381333",
   "metadata": {},
   "source": [
    "Calculadora Simples \n",
    "\n",
    "Etapas: \n",
    "\n",
    "Inicie\n",
    "    Exiba \"Bem vindo à Calculadora\"\n",
    "    Peça para o usuário inserir o primeiro número\n",
    "    Armazene o primeiro numero em uma variavel\n",
    "    Peça para o usuario inserir o segundo numero\n",
    "    Armazene o segundo número em uma variavel\n",
    "    Peça para o usuario selecionar uma operação (+, -, *, /)\n",
    "    Armazene a operação em uma variavel \n",
    "    Utilize a operação selecionada e os numeros armazenados para realizar o calculo\n",
    "    Exiba o resultado\n",
    "Fim"
   ]
  },
  {
   "cell_type": "code",
   "execution_count": 1,
   "id": "ed97d365",
   "metadata": {},
   "outputs": [
    {
     "name": "stdout",
     "output_type": "stream",
     "text": [
      "Bem vindo a Calculadora!\n"
     ]
    }
   ],
   "source": [
    "print (\"Bem vindo a Calculadora!\")"
   ]
  },
  {
   "cell_type": "code",
   "execution_count": 2,
   "id": "2dd7db1c",
   "metadata": {},
   "outputs": [
    {
     "name": "stdout",
     "output_type": "stream",
     "text": [
      "Insira o primeiro número: 6\n"
     ]
    }
   ],
   "source": [
    "num1 = float(input(\"Insira o primeiro número: \"))"
   ]
  },
  {
   "cell_type": "code",
   "execution_count": 3,
   "id": "63e2f368",
   "metadata": {},
   "outputs": [
    {
     "name": "stdout",
     "output_type": "stream",
     "text": [
      "Insira o segundo número: 3\n"
     ]
    }
   ],
   "source": [
    "num2 = float(input(\"Insira o segundo número: \"))"
   ]
  },
  {
   "cell_type": "code",
   "execution_count": 4,
   "id": "7a7bc6f4",
   "metadata": {},
   "outputs": [
    {
     "name": "stdout",
     "output_type": "stream",
     "text": [
      "Selecione uma operação (+, -, /, *,): /\n"
     ]
    }
   ],
   "source": [
    "operacao = input(\"Selecione uma operação (+, -, /, *,): \")"
   ]
  },
  {
   "cell_type": "code",
   "execution_count": 5,
   "id": "f132bd41",
   "metadata": {},
   "outputs": [
    {
     "name": "stdout",
     "output_type": "stream",
     "text": [
      "O resultado é:  2.0\n"
     ]
    }
   ],
   "source": [
    "if operacao ==\"+\":\n",
    "    resultado = num1 + num2\n",
    "    print(\"O resultado é: \", resultado)\n",
    "    \n",
    "elif operacao == \"-\":\n",
    "    resultado = num1 - num2\n",
    "    print(\"O resultado é: \", resultado)\n",
    "    \n",
    "elif operacao == \"/\":\n",
    "    resultado = num1 / num2\n",
    "    print(\"O resultado é: \", resultado)\n",
    "    \n",
    "elif operacao == \"*\":\n",
    "    resultado = num1 * num2\n",
    "    print(\"O resultado é: \", resultado)\n",
    "    \n",
    "else:\n",
    "    print(\"Operação invalida!\")"
   ]
  },
  {
   "cell_type": "code",
   "execution_count": null,
   "id": "6d4c98db",
   "metadata": {},
   "outputs": [],
   "source": []
  }
 ],
 "metadata": {
  "kernelspec": {
   "display_name": "Python 3 (ipykernel)",
   "language": "python",
   "name": "python3"
  },
  "language_info": {
   "codemirror_mode": {
    "name": "ipython",
    "version": 3
   },
   "file_extension": ".py",
   "mimetype": "text/x-python",
   "name": "python",
   "nbconvert_exporter": "python",
   "pygments_lexer": "ipython3",
   "version": "3.9.13"
  }
 },
 "nbformat": 4,
 "nbformat_minor": 5
}
