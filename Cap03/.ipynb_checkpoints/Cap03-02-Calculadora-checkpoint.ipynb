{
 "cells": [
  {
   "cell_type": "markdown",
   "id": "f7743dad",
   "metadata": {},
   "source": [
    "Alex Felipe Barbosa - 06/02/2024\n",
    "\n",
    "Data Science Academy\n",
    "Fundamentos de Linguagem Python para Analise de Dados e Data Science\n",
    "\n",
    "Capitulo 3 - Introdução a Logica de Programação\n"
   ]
  },
  {
   "cell_type": "markdown",
   "id": "d2381333",
   "metadata": {},
   "source": [
    "Calculadora Simples \n",
    "\n",
    "Etapas: \n",
    "\n",
    "Inicie\n",
    "    Exiba \"Bem vindo à Calculadora\"\n",
    "    Peça para o usuário inserir o primeiro número\n",
    "    Armazene o primeiro numero em uma variavel\n",
    "    Peça para o usuario inserir o segundo numero\n",
    "    Armazene o segundo número em uma variavel\n",
    "    Peça para o usuario selecionar uma operação (+, -, *, /)\n",
    "    Armazene a operação em uma variavel \n",
    "    Utilize a operação selecionada e os numeros armazenados para realizar o calculo\n",
    "    Exiba o resultado\n",
    "Fim"
   ]
  },
  {
   "cell_type": "code",
   "execution_count": null,
   "id": "ed97d365",
   "metadata": {},
   "outputs": [],
   "source": []
  }
 ],
 "metadata": {
  "kernelspec": {
   "display_name": "Python 3 (ipykernel)",
   "language": "python",
   "name": "python3"
  },
  "language_info": {
   "codemirror_mode": {
    "name": "ipython",
    "version": 3
   },
   "file_extension": ".py",
   "mimetype": "text/x-python",
   "name": "python",
   "nbconvert_exporter": "python",
   "pygments_lexer": "ipython3",
   "version": "3.9.13"
  }
 },
 "nbformat": 4,
 "nbformat_minor": 5
}
