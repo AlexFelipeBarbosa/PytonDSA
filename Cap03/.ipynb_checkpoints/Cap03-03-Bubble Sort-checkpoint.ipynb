{
 "cells": [
  {
   "cell_type": "markdown",
   "id": "df611b16",
   "metadata": {},
   "source": [
    "Alex Felipe Barbosa - 07/02/2024\n",
    "\n",
    "Data Science Academy\n",
    "Fundamentos de Linguagem Python para Analise de Dados e Data Science\n",
    "\n",
    "Capitulo 3 - Introdução a Logica de Programação\n"
   ]
  },
  {
   "cell_type": "markdown",
   "id": "6981ffa0",
   "metadata": {},
   "source": [
    "Algoritmo Bubble Sort\n",
    "\n",
    "Bubble Sort é um algoritmo de ordenação simples que funciona comparando cada elemento com o próximo e trocando-os de lugar se eles estiverem em ordem incorreta. O Algoritmo repete esse processo varias vezes, até que todos os elementos estejam ordenados. A cada passagem, o maior elemento \"flutua\" para o final do array, como uma bolha, dando origem ao nome do algoritmo.\n",
    "\n"
   ]
  },
  {
   "cell_type": "markdown",
   "id": "57947842",
   "metadata": {},
   "source": [
    "Inicie\n",
    "    Para cada elemento i no array de tamanho n\n",
    "        Para cada elemento j no array de tamanho n -1\n",
    "            Se elemento i for maior que elemento j\n",
    "                Troque os elementos i e j\n",
    "    Exiba o array ordenado\n",
    "Fim"
   ]
  },
  {
   "cell_type": "code",
   "execution_count": null,
   "id": "34b89632",
   "metadata": {},
   "outputs": [],
   "source": [
    "# Considere esta lista como exemplo para a ordenação do Bubble Sort\n",
    "lista = [6, 3, 12, 7]"
   ]
  },
  {
   "cell_type": "code",
   "execution_count": null,
   "id": "60432883",
   "metadata": {},
   "outputs": [],
   "source": [
    "# Primeira passada do algoritmo (troca os elementos 6 e 3 de lugar)\n",
    "lista = [3, 6, 12, 7]"
   ]
  },
  {
   "cell_type": "code",
   "execution_count": null,
   "id": "93d50661",
   "metadata": {},
   "outputs": [],
   "source": [
    "# Segunda passada do algoritmo (não tem troca entre 6 e 12)\n",
    "lista = [3, 6, 12, 7]"
   ]
  },
  {
   "cell_type": "markdown",
   "id": "ed0da8e9",
   "metadata": {},
   "source": [
    "Programa Python"
   ]
  },
  {
   "cell_type": "code",
   "execution_count": 2,
   "id": "032f443f",
   "metadata": {},
   "outputs": [],
   "source": [
    "lista = [6,7,8,3,10,19,4,1,0,61,30,16,17,82,29,34,43,21,11,39,56,67,12]"
   ]
  },
  {
   "cell_type": "code",
   "execution_count": 3,
   "id": "bde30327",
   "metadata": {},
   "outputs": [],
   "source": [
    "def bubble_sort(arr):\n",
    "    \n",
    "    n = len(arr)\n",
    "    \n",
    "    # Para cada elemento i do array\n",
    "    for i in range(n):\n",
    "        \n",
    "        # Para cada elemento j do array\n",
    "        for j in range(0, n-i-1):\n",
    "            \n",
    "            # Se o elemento i for maior que o elemento j\n",
    "            if arr[j] > arr[j+1]:\n",
    "                \n",
    "                # Troque os elementos i e j\n",
    "                arr[j], arr[j+1] = arr[j+1], arr[j]\n",
    "                \n",
    "    return arr            "
   ]
  },
  {
   "cell_type": "code",
   "execution_count": 4,
   "id": "2b300919",
   "metadata": {},
   "outputs": [
    {
     "name": "stdout",
     "output_type": "stream",
     "text": [
      "[0, 1, 3, 4, 6, 7, 8, 10, 11, 12, 16, 17, 19, 21, 29, 30, 34, 39, 43, 56, 61, 67, 82]\n"
     ]
    }
   ],
   "source": [
    "print(bubble_sort(lista))"
   ]
  },
  {
   "cell_type": "code",
   "execution_count": null,
   "id": "d5627f2b",
   "metadata": {},
   "outputs": [],
   "source": []
  }
 ],
 "metadata": {
  "kernelspec": {
   "display_name": "Python 3 (ipykernel)",
   "language": "python",
   "name": "python3"
  },
  "language_info": {
   "codemirror_mode": {
    "name": "ipython",
    "version": 3
   },
   "file_extension": ".py",
   "mimetype": "text/x-python",
   "name": "python",
   "nbconvert_exporter": "python",
   "pygments_lexer": "ipython3",
   "version": "3.9.13"
  }
 },
 "nbformat": 4,
 "nbformat_minor": 5
}
