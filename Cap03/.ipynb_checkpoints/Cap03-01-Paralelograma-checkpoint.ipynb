{
 "cells": [
  {
   "cell_type": "markdown",
   "id": "d98d342f",
   "metadata": {},
   "source": [
    "Alex Felipe Barbosa - 06/02/2024\n",
    "\n",
    "Data Science Academy\n",
    "Fundamentos de Linguagem Python para Analise de Dados e Data Science\n",
    "\n",
    "Capitulo 3 - Introdução a Logica de Programação\n"
   ]
  },
  {
   "cell_type": "code",
   "execution_count": 1,
   "id": "7158394d",
   "metadata": {},
   "outputs": [
    {
     "name": "stdout",
     "output_type": "stream",
     "text": [
      "Versão da Linguagem Python:  3.9.13\n"
     ]
    }
   ],
   "source": [
    "# Versão da Linguagem Python\n",
    "from platform import python_version\n",
    "print('Versão da Linguagem Python: ', python_version())"
   ]
  },
  {
   "cell_type": "markdown",
   "id": "df369669",
   "metadata": {},
   "source": [
    "Pseudocódigo 1 - Calcular a area de um Paralelogramo\n",
    "Nota: Um paralelograma é um quadrilatero com lados opostos paralelos (e portanto ângulos opostos iguais)"
   ]
  },
  {
   "cell_type": "markdown",
   "id": "2d40f3f6",
   "metadata": {},
   "source": [
    "Etapas: \n",
    "\n",
    "Inicie\n",
    "    Exiba \"Bem Vindo ao Calculador de Area do Paralelogramo\"\n",
    "    Peça para o usuario inserir o comprimento da base \n",
    "    Armazene o comprimento da base em uma variavel\n",
    "    Peça para o usuario inserir a altura\n",
    "    Armazene a altura em uma variavel\n",
    "    Calcule a area do paralelograma: base * altura\n",
    "    Armazene o resultado em uma variável\n",
    "    Exiba o resultado\n",
    "Fim"
   ]
  },
  {
   "cell_type": "code",
   "execution_count": 2,
   "id": "5506ea16",
   "metadata": {},
   "outputs": [
    {
     "name": "stdout",
     "output_type": "stream",
     "text": [
      "Bem vindo ao Calculador de Area de Paralelograma\n"
     ]
    }
   ],
   "source": [
    "print(\"Bem vindo ao Calculador de Area de Paralelograma\")"
   ]
  },
  {
   "cell_type": "code",
   "execution_count": 3,
   "id": "33dc39a9",
   "metadata": {},
   "outputs": [
    {
     "name": "stdout",
     "output_type": "stream",
     "text": [
      "Insira o comprimento da base: 10\n"
     ]
    }
   ],
   "source": [
    "base = float(input(\"Insira o comprimento da base: \"))"
   ]
  },
  {
   "cell_type": "code",
   "execution_count": 4,
   "id": "9de65086",
   "metadata": {},
   "outputs": [
    {
     "name": "stdout",
     "output_type": "stream",
     "text": [
      "Insira a altura: 10\n"
     ]
    }
   ],
   "source": [
    "altura = float(input(\"Insira a altura: \"))"
   ]
  },
  {
   "cell_type": "code",
   "execution_count": 5,
   "id": "72e02553",
   "metadata": {},
   "outputs": [],
   "source": [
    "area = base * altura"
   ]
  },
  {
   "cell_type": "code",
   "execution_count": 6,
   "id": "5a931156",
   "metadata": {},
   "outputs": [
    {
     "name": "stdout",
     "output_type": "stream",
     "text": [
      "A area do Paralelograma é:  100.0\n"
     ]
    }
   ],
   "source": [
    "print (\"A area do Paralelograma é: \", area)"
   ]
  },
  {
   "cell_type": "code",
   "execution_count": null,
   "id": "8f6d6cc3",
   "metadata": {},
   "outputs": [],
   "source": []
  },
  {
   "cell_type": "code",
   "execution_count": null,
   "id": "7bd966f4",
   "metadata": {},
   "outputs": [],
   "source": []
  }
 ],
 "metadata": {
  "kernelspec": {
   "display_name": "Python 3 (ipykernel)",
   "language": "python",
   "name": "python3"
  },
  "language_info": {
   "codemirror_mode": {
    "name": "ipython",
    "version": 3
   },
   "file_extension": ".py",
   "mimetype": "text/x-python",
   "name": "python",
   "nbconvert_exporter": "python",
   "pygments_lexer": "ipython3",
   "version": "3.9.13"
  }
 },
 "nbformat": 4,
 "nbformat_minor": 5
}
